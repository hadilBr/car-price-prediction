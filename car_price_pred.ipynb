{
  "cells": [
    {
      "attachments": {},
      "cell_type": "markdown",
      "metadata": {
        "id": "A0edehtwpJhQ"
      },
      "source": [
        "#setup"
      ]
    },
    {
      "cell_type": "code",
      "execution_count": 1,
      "metadata": {
        "id": "mOrohyu9DjHR"
      },
      "outputs": [],
      "source": [
        "import pandas as pd\n",
        "import numpy as np \n",
        "import matplotlib.pyplot as plt\n",
        "import seaborn as sns \n",
        "from scipy import stats \n",
        "from sklearn.model_selection import train_test_split\n",
        "from sklearn.metrics import mean_absolute_error,r2_score,mean_squared_error\n",
        "from sklearn.linear_model import LinearRegression\n",
        "from xgboost import XGBRegressor\n",
        "import keras\n",
        "from keras.models import Sequential\n",
        "from keras.layers import Dense, Dropout\n",
        "from keras.callbacks import ReduceLROnPlateau, EarlyStopping\n",
        "import warnings \n",
        "warnings.filterwarnings('ignore')       \n"
      ]
    },
    {
      "cell_type": "code",
      "execution_count": 2,
      "metadata": {
        "colab": {
          "base_uri": "https://localhost:8080/"
        },
        "id": "zRzYGUbEGFMG",
        "outputId": "6df45cf4-634f-4c09-fbb7-24365106d9c8"
      },
      "outputs": [
        {
          "name": "stdout",
          "output_type": "stream",
          "text": [
            "Mounted at /content/drive\n"
          ]
        }
      ],
      "source": [
        "from google.colab import drive\n",
        "drive.mount('/content/drive')  \n"
      ]
    },
    {
      "cell_type": "code",
      "execution_count": 3,
      "metadata": {
        "id": "nCEUOkEiGFzd"
      },
      "outputs": [],
      "source": [
        "data= pd.read_csv('/content/drive/MyDrive/clean_for_modeling_data.csv')     "
      ]
    },
    {
      "cell_type": "code",
      "execution_count": 4,
      "metadata": {
        "colab": {
          "base_uri": "https://localhost:8080/",
          "height": 0
        },
        "id": "-YgvqZBfGf1A",
        "outputId": "c2bb8f0b-9bd4-4ed2-e591-4c9d4e8c52da"
      },
      "outputs": [
        {
          "data": {
            "text/html": [
              "\n",
              "  <div id=\"df-536a312e-e25b-4888-975c-b4580f26e813\">\n",
              "    <div class=\"colab-df-container\">\n",
              "      <div>\n",
              "<style scoped>\n",
              "    .dataframe tbody tr th:only-of-type {\n",
              "        vertical-align: middle;\n",
              "    }\n",
              "\n",
              "    .dataframe tbody tr th {\n",
              "        vertical-align: top;\n",
              "    }\n",
              "\n",
              "    .dataframe thead th {\n",
              "        text-align: right;\n",
              "    }\n",
              "</style>\n",
              "<table border=\"1\" class=\"dataframe\">\n",
              "  <thead>\n",
              "    <tr style=\"text-align: right;\">\n",
              "      <th></th>\n",
              "      <th>kilometrage</th>\n",
              "      <th>age</th>\n",
              "      <th>marque</th>\n",
              "      <th>modele</th>\n",
              "      <th>carburant</th>\n",
              "      <th>boite</th>\n",
              "      <th>prix</th>\n",
              "    </tr>\n",
              "  </thead>\n",
              "  <tbody>\n",
              "    <tr>\n",
              "      <th>0</th>\n",
              "      <td>145000.0</td>\n",
              "      <td>5</td>\n",
              "      <td>volkswagen</td>\n",
              "      <td>golf 7</td>\n",
              "      <td>Essence</td>\n",
              "      <td>Manuelle</td>\n",
              "      <td>58500.0</td>\n",
              "    </tr>\n",
              "    <tr>\n",
              "      <th>1</th>\n",
              "      <td>110000.0</td>\n",
              "      <td>4</td>\n",
              "      <td>toyota</td>\n",
              "      <td>yaris</td>\n",
              "      <td>Essence</td>\n",
              "      <td>Manuelle</td>\n",
              "      <td>35000.0</td>\n",
              "    </tr>\n",
              "    <tr>\n",
              "      <th>2</th>\n",
              "      <td>190000.0</td>\n",
              "      <td>8</td>\n",
              "      <td>isuzu</td>\n",
              "      <td>d-max</td>\n",
              "      <td>Diesel</td>\n",
              "      <td>Manuelle</td>\n",
              "      <td>57000.0</td>\n",
              "    </tr>\n",
              "    <tr>\n",
              "      <th>3</th>\n",
              "      <td>164000.0</td>\n",
              "      <td>13</td>\n",
              "      <td>citroen</td>\n",
              "      <td>c4</td>\n",
              "      <td>Essence</td>\n",
              "      <td>Manuelle</td>\n",
              "      <td>23500.0</td>\n",
              "    </tr>\n",
              "    <tr>\n",
              "      <th>4</th>\n",
              "      <td>80000.0</td>\n",
              "      <td>8</td>\n",
              "      <td>nissan</td>\n",
              "      <td>juke</td>\n",
              "      <td>Essence</td>\n",
              "      <td>Manuelle</td>\n",
              "      <td>46000.0</td>\n",
              "    </tr>\n",
              "    <tr>\n",
              "      <th>...</th>\n",
              "      <td>...</td>\n",
              "      <td>...</td>\n",
              "      <td>...</td>\n",
              "      <td>...</td>\n",
              "      <td>...</td>\n",
              "      <td>...</td>\n",
              "      <td>...</td>\n",
              "    </tr>\n",
              "    <tr>\n",
              "      <th>52415</th>\n",
              "      <td>155000.0</td>\n",
              "      <td>11</td>\n",
              "      <td>mini</td>\n",
              "      <td>cooper</td>\n",
              "      <td>Essence</td>\n",
              "      <td>Manuelle</td>\n",
              "      <td>33000.0</td>\n",
              "    </tr>\n",
              "    <tr>\n",
              "      <th>52416</th>\n",
              "      <td>68000.0</td>\n",
              "      <td>4</td>\n",
              "      <td>skoda</td>\n",
              "      <td>fabia</td>\n",
              "      <td>Essence</td>\n",
              "      <td>Manuelle</td>\n",
              "      <td>34800.0</td>\n",
              "    </tr>\n",
              "    <tr>\n",
              "      <th>52417</th>\n",
              "      <td>130000.0</td>\n",
              "      <td>14</td>\n",
              "      <td>hyundai</td>\n",
              "      <td>tucson</td>\n",
              "      <td>Diesel</td>\n",
              "      <td>Automatique</td>\n",
              "      <td>56000.0</td>\n",
              "    </tr>\n",
              "    <tr>\n",
              "      <th>52418</th>\n",
              "      <td>161000.0</td>\n",
              "      <td>11</td>\n",
              "      <td>bmw</td>\n",
              "      <td>serie 3</td>\n",
              "      <td>Essence</td>\n",
              "      <td>Automatique</td>\n",
              "      <td>44900.0</td>\n",
              "    </tr>\n",
              "    <tr>\n",
              "      <th>52419</th>\n",
              "      <td>21000.0</td>\n",
              "      <td>2</td>\n",
              "      <td>fiat</td>\n",
              "      <td>500</td>\n",
              "      <td>Essence</td>\n",
              "      <td>Automatique</td>\n",
              "      <td>52000.0</td>\n",
              "    </tr>\n",
              "  </tbody>\n",
              "</table>\n",
              "<p>52420 rows × 7 columns</p>\n",
              "</div>\n",
              "      <button class=\"colab-df-convert\" onclick=\"convertToInteractive('df-536a312e-e25b-4888-975c-b4580f26e813')\"\n",
              "              title=\"Convert this dataframe to an interactive table.\"\n",
              "              style=\"display:none;\">\n",
              "        \n",
              "  <svg xmlns=\"http://www.w3.org/2000/svg\" height=\"24px\"viewBox=\"0 0 24 24\"\n",
              "       width=\"24px\">\n",
              "    <path d=\"M0 0h24v24H0V0z\" fill=\"none\"/>\n",
              "    <path d=\"M18.56 5.44l.94 2.06.94-2.06 2.06-.94-2.06-.94-.94-2.06-.94 2.06-2.06.94zm-11 1L8.5 8.5l.94-2.06 2.06-.94-2.06-.94L8.5 2.5l-.94 2.06-2.06.94zm10 10l.94 2.06.94-2.06 2.06-.94-2.06-.94-.94-2.06-.94 2.06-2.06.94z\"/><path d=\"M17.41 7.96l-1.37-1.37c-.4-.4-.92-.59-1.43-.59-.52 0-1.04.2-1.43.59L10.3 9.45l-7.72 7.72c-.78.78-.78 2.05 0 2.83L4 21.41c.39.39.9.59 1.41.59.51 0 1.02-.2 1.41-.59l7.78-7.78 2.81-2.81c.8-.78.8-2.07 0-2.86zM5.41 20L4 18.59l7.72-7.72 1.47 1.35L5.41 20z\"/>\n",
              "  </svg>\n",
              "      </button>\n",
              "      \n",
              "  <style>\n",
              "    .colab-df-container {\n",
              "      display:flex;\n",
              "      flex-wrap:wrap;\n",
              "      gap: 12px;\n",
              "    }\n",
              "\n",
              "    .colab-df-convert {\n",
              "      background-color: #E8F0FE;\n",
              "      border: none;\n",
              "      border-radius: 50%;\n",
              "      cursor: pointer;\n",
              "      display: none;\n",
              "      fill: #1967D2;\n",
              "      height: 32px;\n",
              "      padding: 0 0 0 0;\n",
              "      width: 32px;\n",
              "    }\n",
              "\n",
              "    .colab-df-convert:hover {\n",
              "      background-color: #E2EBFA;\n",
              "      box-shadow: 0px 1px 2px rgba(60, 64, 67, 0.3), 0px 1px 3px 1px rgba(60, 64, 67, 0.15);\n",
              "      fill: #174EA6;\n",
              "    }\n",
              "\n",
              "    [theme=dark] .colab-df-convert {\n",
              "      background-color: #3B4455;\n",
              "      fill: #D2E3FC;\n",
              "    }\n",
              "\n",
              "    [theme=dark] .colab-df-convert:hover {\n",
              "      background-color: #434B5C;\n",
              "      box-shadow: 0px 1px 3px 1px rgba(0, 0, 0, 0.15);\n",
              "      filter: drop-shadow(0px 1px 2px rgba(0, 0, 0, 0.3));\n",
              "      fill: #FFFFFF;\n",
              "    }\n",
              "  </style>\n",
              "\n",
              "      <script>\n",
              "        const buttonEl =\n",
              "          document.querySelector('#df-536a312e-e25b-4888-975c-b4580f26e813 button.colab-df-convert');\n",
              "        buttonEl.style.display =\n",
              "          google.colab.kernel.accessAllowed ? 'block' : 'none';\n",
              "\n",
              "        async function convertToInteractive(key) {\n",
              "          const element = document.querySelector('#df-536a312e-e25b-4888-975c-b4580f26e813');\n",
              "          const dataTable =\n",
              "            await google.colab.kernel.invokeFunction('convertToInteractive',\n",
              "                                                     [key], {});\n",
              "          if (!dataTable) return;\n",
              "\n",
              "          const docLinkHtml = 'Like what you see? Visit the ' +\n",
              "            '<a target=\"_blank\" href=https://colab.research.google.com/notebooks/data_table.ipynb>data table notebook</a>'\n",
              "            + ' to learn more about interactive tables.';\n",
              "          element.innerHTML = '';\n",
              "          dataTable['output_type'] = 'display_data';\n",
              "          await google.colab.output.renderOutput(dataTable, element);\n",
              "          const docLink = document.createElement('div');\n",
              "          docLink.innerHTML = docLinkHtml;\n",
              "          element.appendChild(docLink);\n",
              "        }\n",
              "      </script>\n",
              "    </div>\n",
              "  </div>\n",
              "  "
            ],
            "text/plain": [
              "       kilometrage  age      marque   modele carburant        boite     prix\n",
              "0         145000.0    5  volkswagen   golf 7   Essence     Manuelle  58500.0\n",
              "1         110000.0    4      toyota    yaris   Essence     Manuelle  35000.0\n",
              "2         190000.0    8       isuzu    d-max    Diesel     Manuelle  57000.0\n",
              "3         164000.0   13     citroen       c4   Essence     Manuelle  23500.0\n",
              "4          80000.0    8      nissan     juke   Essence     Manuelle  46000.0\n",
              "...            ...  ...         ...      ...       ...          ...      ...\n",
              "52415     155000.0   11        mini   cooper   Essence     Manuelle  33000.0\n",
              "52416      68000.0    4       skoda    fabia   Essence     Manuelle  34800.0\n",
              "52417     130000.0   14     hyundai   tucson    Diesel  Automatique  56000.0\n",
              "52418     161000.0   11         bmw  serie 3   Essence  Automatique  44900.0\n",
              "52419      21000.0    2        fiat      500   Essence  Automatique  52000.0\n",
              "\n",
              "[52420 rows x 7 columns]"
            ]
          },
          "execution_count": 4,
          "metadata": {},
          "output_type": "execute_result"
        }
      ],
      "source": [
        "data"
      ]
    },
    {
      "cell_type": "code",
      "execution_count": 5,
      "metadata": {
        "colab": {
          "base_uri": "https://localhost:8080/"
        },
        "id": "klK-03HLGh7r",
        "outputId": "4e1b6494-d5d4-40ed-f0b1-6efcd54c55bf"
      },
      "outputs": [
        {
          "data": {
            "text/plain": [
              "kilometrage    0\n",
              "age            0\n",
              "marque         0\n",
              "modele         0\n",
              "carburant      0\n",
              "boite          0\n",
              "prix           0\n",
              "dtype: int64"
            ]
          },
          "execution_count": 5,
          "metadata": {},
          "output_type": "execute_result"
        }
      ],
      "source": [
        "data.isnull().sum() "
      ]
    },
    {
      "cell_type": "code",
      "execution_count": 6,
      "metadata": {
        "colab": {
          "base_uri": "https://localhost:8080/",
          "height": 0
        },
        "id": "O2gnk0yWGpec",
        "outputId": "a7f2de63-7004-4543-be1f-63ab27741ef2"
      },
      "outputs": [
        {
          "data": {
            "text/html": [
              "\n",
              "  <div id=\"df-6f2f6888-4de5-4472-a4c7-31c7736b3484\">\n",
              "    <div class=\"colab-df-container\">\n",
              "      <div>\n",
              "<style scoped>\n",
              "    .dataframe tbody tr th:only-of-type {\n",
              "        vertical-align: middle;\n",
              "    }\n",
              "\n",
              "    .dataframe tbody tr th {\n",
              "        vertical-align: top;\n",
              "    }\n",
              "\n",
              "    .dataframe thead th {\n",
              "        text-align: right;\n",
              "    }\n",
              "</style>\n",
              "<table border=\"1\" class=\"dataframe\">\n",
              "  <thead>\n",
              "    <tr style=\"text-align: right;\">\n",
              "      <th></th>\n",
              "      <th>kilometrage</th>\n",
              "      <th>age</th>\n",
              "      <th>prix</th>\n",
              "    </tr>\n",
              "  </thead>\n",
              "  <tbody>\n",
              "    <tr>\n",
              "      <th>count</th>\n",
              "      <td>52420.000000</td>\n",
              "      <td>52420.000000</td>\n",
              "      <td>52420.000000</td>\n",
              "    </tr>\n",
              "    <tr>\n",
              "      <th>mean</th>\n",
              "      <td>170811.455876</td>\n",
              "      <td>10.177623</td>\n",
              "      <td>32749.866845</td>\n",
              "    </tr>\n",
              "    <tr>\n",
              "      <th>std</th>\n",
              "      <td>80521.718693</td>\n",
              "      <td>5.721696</td>\n",
              "      <td>22625.912171</td>\n",
              "    </tr>\n",
              "    <tr>\n",
              "      <th>min</th>\n",
              "      <td>5000.000000</td>\n",
              "      <td>0.000000</td>\n",
              "      <td>10000.000000</td>\n",
              "    </tr>\n",
              "    <tr>\n",
              "      <th>25%</th>\n",
              "      <td>110000.000000</td>\n",
              "      <td>6.000000</td>\n",
              "      <td>19000.000000</td>\n",
              "    </tr>\n",
              "    <tr>\n",
              "      <th>50%</th>\n",
              "      <td>167000.000000</td>\n",
              "      <td>9.000000</td>\n",
              "      <td>26500.000000</td>\n",
              "    </tr>\n",
              "    <tr>\n",
              "      <th>75%</th>\n",
              "      <td>220000.000000</td>\n",
              "      <td>14.000000</td>\n",
              "      <td>37500.000000</td>\n",
              "    </tr>\n",
              "    <tr>\n",
              "      <th>max</th>\n",
              "      <td>400000.000000</td>\n",
              "      <td>29.000000</td>\n",
              "      <td>200000.000000</td>\n",
              "    </tr>\n",
              "  </tbody>\n",
              "</table>\n",
              "</div>\n",
              "      <button class=\"colab-df-convert\" onclick=\"convertToInteractive('df-6f2f6888-4de5-4472-a4c7-31c7736b3484')\"\n",
              "              title=\"Convert this dataframe to an interactive table.\"\n",
              "              style=\"display:none;\">\n",
              "        \n",
              "  <svg xmlns=\"http://www.w3.org/2000/svg\" height=\"24px\"viewBox=\"0 0 24 24\"\n",
              "       width=\"24px\">\n",
              "    <path d=\"M0 0h24v24H0V0z\" fill=\"none\"/>\n",
              "    <path d=\"M18.56 5.44l.94 2.06.94-2.06 2.06-.94-2.06-.94-.94-2.06-.94 2.06-2.06.94zm-11 1L8.5 8.5l.94-2.06 2.06-.94-2.06-.94L8.5 2.5l-.94 2.06-2.06.94zm10 10l.94 2.06.94-2.06 2.06-.94-2.06-.94-.94-2.06-.94 2.06-2.06.94z\"/><path d=\"M17.41 7.96l-1.37-1.37c-.4-.4-.92-.59-1.43-.59-.52 0-1.04.2-1.43.59L10.3 9.45l-7.72 7.72c-.78.78-.78 2.05 0 2.83L4 21.41c.39.39.9.59 1.41.59.51 0 1.02-.2 1.41-.59l7.78-7.78 2.81-2.81c.8-.78.8-2.07 0-2.86zM5.41 20L4 18.59l7.72-7.72 1.47 1.35L5.41 20z\"/>\n",
              "  </svg>\n",
              "      </button>\n",
              "      \n",
              "  <style>\n",
              "    .colab-df-container {\n",
              "      display:flex;\n",
              "      flex-wrap:wrap;\n",
              "      gap: 12px;\n",
              "    }\n",
              "\n",
              "    .colab-df-convert {\n",
              "      background-color: #E8F0FE;\n",
              "      border: none;\n",
              "      border-radius: 50%;\n",
              "      cursor: pointer;\n",
              "      display: none;\n",
              "      fill: #1967D2;\n",
              "      height: 32px;\n",
              "      padding: 0 0 0 0;\n",
              "      width: 32px;\n",
              "    }\n",
              "\n",
              "    .colab-df-convert:hover {\n",
              "      background-color: #E2EBFA;\n",
              "      box-shadow: 0px 1px 2px rgba(60, 64, 67, 0.3), 0px 1px 3px 1px rgba(60, 64, 67, 0.15);\n",
              "      fill: #174EA6;\n",
              "    }\n",
              "\n",
              "    [theme=dark] .colab-df-convert {\n",
              "      background-color: #3B4455;\n",
              "      fill: #D2E3FC;\n",
              "    }\n",
              "\n",
              "    [theme=dark] .colab-df-convert:hover {\n",
              "      background-color: #434B5C;\n",
              "      box-shadow: 0px 1px 3px 1px rgba(0, 0, 0, 0.15);\n",
              "      filter: drop-shadow(0px 1px 2px rgba(0, 0, 0, 0.3));\n",
              "      fill: #FFFFFF;\n",
              "    }\n",
              "  </style>\n",
              "\n",
              "      <script>\n",
              "        const buttonEl =\n",
              "          document.querySelector('#df-6f2f6888-4de5-4472-a4c7-31c7736b3484 button.colab-df-convert');\n",
              "        buttonEl.style.display =\n",
              "          google.colab.kernel.accessAllowed ? 'block' : 'none';\n",
              "\n",
              "        async function convertToInteractive(key) {\n",
              "          const element = document.querySelector('#df-6f2f6888-4de5-4472-a4c7-31c7736b3484');\n",
              "          const dataTable =\n",
              "            await google.colab.kernel.invokeFunction('convertToInteractive',\n",
              "                                                     [key], {});\n",
              "          if (!dataTable) return;\n",
              "\n",
              "          const docLinkHtml = 'Like what you see? Visit the ' +\n",
              "            '<a target=\"_blank\" href=https://colab.research.google.com/notebooks/data_table.ipynb>data table notebook</a>'\n",
              "            + ' to learn more about interactive tables.';\n",
              "          element.innerHTML = '';\n",
              "          dataTable['output_type'] = 'display_data';\n",
              "          await google.colab.output.renderOutput(dataTable, element);\n",
              "          const docLink = document.createElement('div');\n",
              "          docLink.innerHTML = docLinkHtml;\n",
              "          element.appendChild(docLink);\n",
              "        }\n",
              "      </script>\n",
              "    </div>\n",
              "  </div>\n",
              "  "
            ],
            "text/plain": [
              "         kilometrage           age           prix\n",
              "count   52420.000000  52420.000000   52420.000000\n",
              "mean   170811.455876     10.177623   32749.866845\n",
              "std     80521.718693      5.721696   22625.912171\n",
              "min      5000.000000      0.000000   10000.000000\n",
              "25%    110000.000000      6.000000   19000.000000\n",
              "50%    167000.000000      9.000000   26500.000000\n",
              "75%    220000.000000     14.000000   37500.000000\n",
              "max    400000.000000     29.000000  200000.000000"
            ]
          },
          "execution_count": 6,
          "metadata": {},
          "output_type": "execute_result"
        }
      ],
      "source": [
        "data.describe()"
      ]
    },
    {
      "cell_type": "code",
      "execution_count": 7,
      "metadata": {
        "id": "4ljRn6JhPBAn"
      },
      "outputs": [],
      "source": [
        "#remove sequential digits where diff is 1 \n",
        "data['prix'] = data['prix'].astype(str) \n",
        "def has_ascending_order_with_diff_one(num):\n",
        "    num_str = str(num).replace('-', '')  # remove hyphen (-) characters\n",
        "    return all(num_str[i] < num_str[i+1] for i in range(len(num_str)-1)) and all(int(num_str[i+1]) - int(num_str[i]) == 1 for i in range(len(num_str)-1))\n",
        " \n",
        "data = data[~(data['prix'].apply(has_ascending_order_with_diff_one) & (data['prix'].str.len() >= 3))]"
      ]
    },
    {
      "cell_type": "code",
      "execution_count": 8,
      "metadata": {
        "colab": {
          "base_uri": "https://localhost:8080/"
        },
        "id": "ShbEfZfZPA5W",
        "outputId": "11e1ba09-1cc2-40ad-d823-8625026d865e"
      },
      "outputs": [
        {
          "data": {
            "text/plain": [
              "(52420, 7)"
            ]
          },
          "execution_count": 8,
          "metadata": {},
          "output_type": "execute_result"
        }
      ],
      "source": [
        "data.shape"
      ]
    },
    {
      "cell_type": "code",
      "execution_count": 9,
      "metadata": {
        "colab": {
          "base_uri": "https://localhost:8080/"
        },
        "id": "mxuImujdUASi",
        "outputId": "aa955f94-4262-4b21-f62c-31cdeb396995"
      },
      "outputs": [
        {
          "data": {
            "text/plain": [
              "volkswagen        9089\n",
              "peugeot           6741\n",
              "renault           6187\n",
              "citroen           5316\n",
              "fiat              3475\n",
              "                  ... \n",
              "zotye                1\n",
              "masey ferguson       1\n",
              "pontiac              1\n",
              "lamborghini          1\n",
              "changhe              1\n",
              "Name: marque, Length: 63, dtype: int64"
            ]
          },
          "execution_count": 9,
          "metadata": {},
          "output_type": "execute_result"
        }
      ],
      "source": [
        "data['marque'].value_counts()"
      ]
    },
    {
      "cell_type": "code",
      "execution_count": 10,
      "metadata": {
        "colab": {
          "base_uri": "https://localhost:8080/"
        },
        "id": "T65NfUoNUAOq",
        "outputId": "99b0978c-9940-4581-e997-78cbb84a8f60"
      },
      "outputs": [
        {
          "data": {
            "text/plain": [
              "array(['volkswagen', 'toyota', 'isuzu', 'citroen', 'nissan', 'fiat',\n",
              "       'renault', 'peugeot', 'autres', 'seat', 'bmw', 'opel', 'kia',\n",
              "       'ford', 'dacia', 'smart', 'iveco', 'mazda', 'audi', 'hyundai',\n",
              "       'mercedes-benz', 'chevrolet', 'mitsubishi', 'ssangyong', 'jaguar',\n",
              "       'suzuki', 'daewoo', 'mini', 'honda', 'lancia', 'land rover', 'ac',\n",
              "       'skoda', 'jeep', 'mahindra', 'alfa romeo', 'cadillac', 'ufo',\n",
              "       'chery', 'byd', 'porsche', 'infiniti', 'rover', 'acrea', 'gmc',\n",
              "       'volvo', 'ferrari', 'man', 'zotye', 'chrysler', 'daihatsu',\n",
              "       'aston martin', 'dodge', 'bentley', 'acura', 'geely', 'foton',\n",
              "       'masey ferguson', 'hummer', 'pontiac', 'lincoln', 'lamborghini',\n",
              "       'changhe'], dtype=object)"
            ]
          },
          "execution_count": 10,
          "metadata": {},
          "output_type": "execute_result"
        }
      ],
      "source": [
        "data['marque'].unique()"
      ]
    },
    {
      "cell_type": "code",
      "execution_count": 11,
      "metadata": {
        "id": "otyKx7c2UAMF"
      },
      "outputs": [],
      "source": [
        "pd.set_option('display.max_rows', 10000)\n",
        "value_counts = data['marque'].value_counts() \n",
        "\n",
        "keep_values = value_counts[value_counts >= 100].index  # Get the values to keep\n",
        "data = data[data['marque'].isin(keep_values)]  "
      ]
    },
    {
      "cell_type": "code",
      "execution_count": 12,
      "metadata": {
        "id": "TTerk9-6Vqwc"
      },
      "outputs": [],
      "source": [
        "data = data.groupby('modele').filter(lambda x: len(x) > 100)  "
      ]
    },
    {
      "cell_type": "code",
      "execution_count": 12,
      "metadata": {
        "id": "mFEo3ax1AP1M"
      },
      "outputs": [],
      "source": []
    },
    {
      "cell_type": "code",
      "execution_count": 13,
      "metadata": {
        "colab": {
          "base_uri": "https://localhost:8080/"
        },
        "id": "t06BM2zNVqtC",
        "outputId": "6e469048-c58a-4b33-f4ed-70dd53658064"
      },
      "outputs": [
        {
          "data": {
            "text/plain": [
              "100"
            ]
          },
          "execution_count": 13,
          "metadata": {},
          "output_type": "execute_result"
        }
      ],
      "source": [
        "data['modele'].nunique() "
      ]
    },
    {
      "cell_type": "code",
      "execution_count": 14,
      "metadata": {
        "colab": {
          "base_uri": "https://localhost:8080/"
        },
        "id": "R15TvFWtWz1K",
        "outputId": "aa8da824-2dae-4226-d54e-bfce7cb2dbf9"
      },
      "outputs": [
        {
          "data": {
            "text/plain": [
              "27"
            ]
          },
          "execution_count": 14,
          "metadata": {},
          "output_type": "execute_result"
        }
      ],
      "source": [
        "data['marque'].nunique() "
      ]
    },
    {
      "cell_type": "code",
      "execution_count": 15,
      "metadata": {
        "id": "BHOmlykujv1J"
      },
      "outputs": [],
      "source": [
        "# comparaiqon par median ceux quit sont plus de 2 SD delete them "
      ]
    },
    {
      "cell_type": "code",
      "execution_count": 18,
      "metadata": {
        "colab": {
          "base_uri": "https://localhost:8080/"
        },
        "id": "TCLqg8ShkfUU",
        "outputId": "07e482fb-f77f-4177-fa61-aecd2d260be9"
      },
      "outputs": [
        {
          "data": {
            "text/plain": [
              "False"
            ]
          },
          "execution_count": 18,
          "metadata": {},
          "output_type": "execute_result"
        }
      ],
      "source": [
        "(data['prix'] == 'punto').min()"
      ]
    },
    {
      "cell_type": "code",
      "execution_count": 19,
      "metadata": {
        "id": "n69ee7eRlq5y"
      },
      "outputs": [],
      "source": [
        "data['modele'] = data['modele'].replace(['c-elysee'], 'c-elysée') "
      ]
    },
    {
      "cell_type": "code",
      "execution_count": 20,
      "metadata": {
        "id": "xexXW9KaB5k1"
      },
      "outputs": [],
      "source": [
        "#fiat punto 15ans pour 160K , citroen C3 19ans a 158k, berlingo 200k 10ans , golf 4 150k 18ns , opel corsa 21ans a 150k ..... \n"
      ]
    },
    {
      "cell_type": "code",
      "execution_count": 21,
      "metadata": {
        "id": "ZXhYlkTb-_uL"
      },
      "outputs": [],
      "source": [
        "data['prix']=data['prix'].apply(float)\n",
        "data['prix']=data['prix'].apply(int)\n",
        "result = data[(data['prix'] >= 100000) & (data['prix'] <= 200000)]\n",
        "  #between 13k et 14k are correct    "
      ]
    },
    {
      "cell_type": "code",
      "execution_count": 22,
      "metadata": {
        "colab": {
          "base_uri": "https://localhost:8080/",
          "height": 0
        },
        "id": "_7WR1vF3VX0e",
        "outputId": "7187337e-e1c2-4bda-e285-8a8655d6f850"
      },
      "outputs": [
        {
          "data": {
            "image/png": "[encoded data removed]",
            "text/plain": [
              "<Figure size 2000x800 with 2 Axes>"
            ]
          },
          "metadata": {},
          "output_type": "display_data"
        }
      ],
      "source": [
        "data['prix']=data['prix'].apply(float)\n",
        "data['prix']=data['prix'].apply(int)\n",
        "\n",
        "plt.figure(figsize=(20,8))\n",
        "\n",
        "plt.subplot(1,2,1)\n",
        "plt.title('Car Price Distribution Plot')\n",
        "sns.distplot(data.prix)                                                               \n",
        "\n",
        "plt.subplot(1,2,2)\n",
        "plt.title('Car Price Spread')\n",
        "sns.boxplot(y=data.prix) \n",
        "                                                       \n",
        "plt.show() "
      ]
    },
    {
      "attachments": {},
      "cell_type": "markdown",
      "metadata": {
        "id": "XutjG04UVSzZ"
      },
      "source": [
        "The interquartile range is the best measure of variability for skewed distributions or data sets with outliers. Because it's based on values that come from the middle half of the distribution, it's unlikely to be influenced by outliers.\n"
      ]
    },
    {
      "cell_type": "code",
      "execution_count": 23,
      "metadata": {
        "colab": {
          "base_uri": "https://localhost:8080/"
        },
        "id": "tE1JMiv3c62d",
        "outputId": "e4f30779-0ce4-498b-a7d3-5e527b4f039c"
      },
      "outputs": [
        {
          "data": {
            "text/plain": [
              "(44660, 7)"
            ]
          },
          "execution_count": 23,
          "metadata": {},
          "output_type": "execute_result"
        }
      ],
      "source": [
        "data.shape"
      ]
    },
    {
      "cell_type": "code",
      "execution_count": 24,
      "metadata": {
        "colab": {
          "base_uri": "https://localhost:8080/",
          "height": 0
        },
        "id": "krBM6Nc9dGwe",
        "outputId": "1a7ad374-82b9-4c08-b877-58f611ca1d3d"
      },
      "outputs": [
        {
          "data": {
            "text/html": [
              "\n",
              "  <div id=\"df-6122cc75-1efb-43d2-a05e-9ed08eaf53d8\">\n",
              "    <div class=\"colab-df-container\">\n",
              "      <div>\n",
              "<style scoped>\n",
              "    .dataframe tbody tr th:only-of-type {\n",
              "        vertical-align: middle;\n",
              "    }\n",
              "\n",
              "    .dataframe tbody tr th {\n",
              "        vertical-align: top;\n",
              "    }\n",
              "\n",
              "    .dataframe thead th {\n",
              "        text-align: right;\n",
              "    }\n",
              "</style>\n",
              "<table border=\"1\" class=\"dataframe\">\n",
              "  <thead>\n",
              "    <tr style=\"text-align: right;\">\n",
              "      <th></th>\n",
              "      <th>kilometrage</th>\n",
              "      <th>age</th>\n",
              "      <th>marque</th>\n",
              "      <th>modele</th>\n",
              "      <th>carburant</th>\n",
              "      <th>boite</th>\n",
              "      <th>prix</th>\n",
              "    </tr>\n",
              "  </thead>\n",
              "  <tbody>\n",
              "    <tr>\n",
              "      <th>0</th>\n",
              "      <td>145000.0</td>\n",
              "      <td>5</td>\n",
              "      <td>volkswagen</td>\n",
              "      <td>golf 7</td>\n",
              "      <td>Essence</td>\n",
              "      <td>Manuelle</td>\n",
              "      <td>58500</td>\n",
              "    </tr>\n",
              "    <tr>\n",
              "      <th>1</th>\n",
              "      <td>110000.0</td>\n",
              "      <td>4</td>\n",
              "      <td>toyota</td>\n",
              "      <td>yaris</td>\n",
              "      <td>Essence</td>\n",
              "      <td>Manuelle</td>\n",
              "      <td>35000</td>\n",
              "    </tr>\n",
              "    <tr>\n",
              "      <th>2</th>\n",
              "      <td>190000.0</td>\n",
              "      <td>8</td>\n",
              "      <td>isuzu</td>\n",
              "      <td>d-max</td>\n",
              "      <td>Diesel</td>\n",
              "      <td>Manuelle</td>\n",
              "      <td>57000</td>\n",
              "    </tr>\n",
              "    <tr>\n",
              "      <th>3</th>\n",
              "      <td>164000.0</td>\n",
              "      <td>13</td>\n",
              "      <td>citroen</td>\n",
              "      <td>c4</td>\n",
              "      <td>Essence</td>\n",
              "      <td>Manuelle</td>\n",
              "      <td>23500</td>\n",
              "    </tr>\n",
              "    <tr>\n",
              "      <th>4</th>\n",
              "      <td>80000.0</td>\n",
              "      <td>8</td>\n",
              "      <td>nissan</td>\n",
              "      <td>juke</td>\n",
              "      <td>Essence</td>\n",
              "      <td>Manuelle</td>\n",
              "      <td>46000</td>\n",
              "    </tr>\n",
              "    <tr>\n",
              "      <th>...</th>\n",
              "      <td>...</td>\n",
              "      <td>...</td>\n",
              "      <td>...</td>\n",
              "      <td>...</td>\n",
              "      <td>...</td>\n",
              "      <td>...</td>\n",
              "      <td>...</td>\n",
              "    </tr>\n",
              "    <tr>\n",
              "      <th>52414</th>\n",
              "      <td>300000.0</td>\n",
              "      <td>24</td>\n",
              "      <td>opel</td>\n",
              "      <td>corsa</td>\n",
              "      <td>Essence</td>\n",
              "      <td>Manuelle</td>\n",
              "      <td>12000</td>\n",
              "    </tr>\n",
              "    <tr>\n",
              "      <th>52415</th>\n",
              "      <td>155000.0</td>\n",
              "      <td>11</td>\n",
              "      <td>mini</td>\n",
              "      <td>cooper</td>\n",
              "      <td>Essence</td>\n",
              "      <td>Manuelle</td>\n",
              "      <td>33000</td>\n",
              "    </tr>\n",
              "    <tr>\n",
              "      <th>52416</th>\n",
              "      <td>68000.0</td>\n",
              "      <td>4</td>\n",
              "      <td>skoda</td>\n",
              "      <td>fabia</td>\n",
              "      <td>Essence</td>\n",
              "      <td>Manuelle</td>\n",
              "      <td>34800</td>\n",
              "    </tr>\n",
              "    <tr>\n",
              "      <th>52418</th>\n",
              "      <td>161000.0</td>\n",
              "      <td>11</td>\n",
              "      <td>bmw</td>\n",
              "      <td>serie 3</td>\n",
              "      <td>Essence</td>\n",
              "      <td>Automatique</td>\n",
              "      <td>44900</td>\n",
              "    </tr>\n",
              "    <tr>\n",
              "      <th>52419</th>\n",
              "      <td>21000.0</td>\n",
              "      <td>2</td>\n",
              "      <td>fiat</td>\n",
              "      <td>500</td>\n",
              "      <td>Essence</td>\n",
              "      <td>Automatique</td>\n",
              "      <td>52000</td>\n",
              "    </tr>\n",
              "  </tbody>\n",
              "</table>\n",
              "<p>44660 rows × 7 columns</p>\n",
              "</div>\n",
              "      <button class=\"colab-df-convert\" onclick=\"convertToInteractive('df-6122cc75-1efb-43d2-a05e-9ed08eaf53d8')\"\n",
              "              title=\"Convert this dataframe to an interactive table.\"\n",
              "              style=\"display:none;\">\n",
              "        \n",
              "  <svg xmlns=\"http://www.w3.org/2000/svg\" height=\"24px\"viewBox=\"0 0 24 24\"\n",
              "       width=\"24px\">\n",
              "    <path d=\"M0 0h24v24H0V0z\" fill=\"none\"/>\n",
              "    <path d=\"M18.56 5.44l.94 2.06.94-2.06 2.06-.94-2.06-.94-.94-2.06-.94 2.06-2.06.94zm-11 1L8.5 8.5l.94-2.06 2.06-.94-2.06-.94L8.5 2.5l-.94 2.06-2.06.94zm10 10l.94 2.06.94-2.06 2.06-.94-2.06-.94-.94-2.06-.94 2.06-2.06.94z\"/><path d=\"M17.41 7.96l-1.37-1.37c-.4-.4-.92-.59-1.43-.59-.52 0-1.04.2-1.43.59L10.3 9.45l-7.72 7.72c-.78.78-.78 2.05 0 2.83L4 21.41c.39.39.9.59 1.41.59.51 0 1.02-.2 1.41-.59l7.78-7.78 2.81-2.81c.8-.78.8-2.07 0-2.86zM5.41 20L4 18.59l7.72-7.72 1.47 1.35L5.41 20z\"/>\n",
              "  </svg>\n",
              "      </button>\n",
              "      \n",
              "  <style>\n",
              "    .colab-df-container {\n",
              "      display:flex;\n",
              "      flex-wrap:wrap;\n",
              "      gap: 12px;\n",
              "    }\n",
              "\n",
              "    .colab-df-convert {\n",
              "      background-color: #E8F0FE;\n",
              "      border: none;\n",
              "      border-radius: 50%;\n",
              "      cursor: pointer;\n",
              "      display: none;\n",
              "      fill: #1967D2;\n",
              "      height: 32px;\n",
              "      padding: 0 0 0 0;\n",
              "      width: 32px;\n",
              "    }\n",
              "\n",
              "    .colab-df-convert:hover {\n",
              "      background-color: #E2EBFA;\n",
              "      box-shadow: 0px 1px 2px rgba(60, 64, 67, 0.3), 0px 1px 3px 1px rgba(60, 64, 67, 0.15);\n",
              "      fill: #174EA6;\n",
              "    }\n",
              "\n",
              "    [theme=dark] .colab-df-convert {\n",
              "      background-color: #3B4455;\n",
              "      fill: #D2E3FC;\n",
              "    }\n",
              "\n",
              "    [theme=dark] .colab-df-convert:hover {\n",
              "      background-color: #434B5C;\n",
              "      box-shadow: 0px 1px 3px 1px rgba(0, 0, 0, 0.15);\n",
              "      filter: drop-shadow(0px 1px 2px rgba(0, 0, 0, 0.3));\n",
              "      fill: #FFFFFF;\n",
              "    }\n",
              "  </style>\n",
              "\n",
              "      <script>\n",
              "        const buttonEl =\n",
              "          document.querySelector('#df-6122cc75-1efb-43d2-a05e-9ed08eaf53d8 button.colab-df-convert');\n",
              "        buttonEl.style.display =\n",
              "          google.colab.kernel.accessAllowed ? 'block' : 'none';\n",
              "\n",
              "        async function convertToInteractive(key) {\n",
              "          const element = document.querySelector('#df-6122cc75-1efb-43d2-a05e-9ed08eaf53d8');\n",
              "          const dataTable =\n",
              "            await google.colab.kernel.invokeFunction('convertToInteractive',\n",
              "                                                     [key], {});\n",
              "          if (!dataTable) return;\n",
              "\n",
              "          const docLinkHtml = 'Like what you see? Visit the ' +\n",
              "            '<a target=\"_blank\" href=https://colab.research.google.com/notebooks/data_table.ipynb>data table notebook</a>'\n",
              "            + ' to learn more about interactive tables.';\n",
              "          element.innerHTML = '';\n",
              "          dataTable['output_type'] = 'display_data';\n",
              "          await google.colab.output.renderOutput(dataTable, element);\n",
              "          const docLink = document.createElement('div');\n",
              "          docLink.innerHTML = docLinkHtml;\n",
              "          element.appendChild(docLink);\n",
              "        }\n",
              "      </script>\n",
              "    </div>\n",
              "  </div>\n",
              "  "
            ],
            "text/plain": [
              "       kilometrage  age      marque   modele carburant        boite   prix\n",
              "0         145000.0    5  volkswagen   golf 7   Essence     Manuelle  58500\n",
              "1         110000.0    4      toyota    yaris   Essence     Manuelle  35000\n",
              "2         190000.0    8       isuzu    d-max    Diesel     Manuelle  57000\n",
              "3         164000.0   13     citroen       c4   Essence     Manuelle  23500\n",
              "4          80000.0    8      nissan     juke   Essence     Manuelle  46000\n",
              "...            ...  ...         ...      ...       ...          ...    ...\n",
              "52414     300000.0   24        opel    corsa   Essence     Manuelle  12000\n",
              "52415     155000.0   11        mini   cooper   Essence     Manuelle  33000\n",
              "52416      68000.0    4       skoda    fabia   Essence     Manuelle  34800\n",
              "52418     161000.0   11         bmw  serie 3   Essence  Automatique  44900\n",
              "52419      21000.0    2        fiat      500   Essence  Automatique  52000\n",
              "\n",
              "[44660 rows x 7 columns]"
            ]
          },
          "execution_count": 24,
          "metadata": {},
          "output_type": "execute_result"
        }
      ],
      "source": [
        "data"
      ]
    },
    {
      "cell_type": "code",
      "execution_count": 25,
      "metadata": {
        "colab": {
          "base_uri": "https://localhost:8080/",
          "height": 0
        },
        "id": "YFUOKIEoBZdJ",
        "outputId": "32f8dcda-cc82-45f8-a1f1-2f91093743fc"
      },
      "outputs": [
        {
          "data": {
            "text/html": [
              "\n",
              "  <div id=\"df-472ebf3b-e878-42db-9ec6-474ad3443a51\">\n",
              "    <div class=\"colab-df-container\">\n",
              "      <div>\n",
              "<style scoped>\n",
              "    .dataframe tbody tr th:only-of-type {\n",
              "        vertical-align: middle;\n",
              "    }\n",
              "\n",
              "    .dataframe tbody tr th {\n",
              "        vertical-align: top;\n",
              "    }\n",
              "\n",
              "    .dataframe thead th {\n",
              "        text-align: right;\n",
              "    }\n",
              "</style>\n",
              "<table border=\"1\" class=\"dataframe\">\n",
              "  <thead>\n",
              "    <tr style=\"text-align: right;\">\n",
              "      <th></th>\n",
              "      <th>kilometrage</th>\n",
              "      <th>age</th>\n",
              "      <th>marque</th>\n",
              "      <th>modele</th>\n",
              "      <th>carburant</th>\n",
              "      <th>boite</th>\n",
              "      <th>prix</th>\n",
              "    </tr>\n",
              "  </thead>\n",
              "  <tbody>\n",
              "    <tr>\n",
              "      <th>0</th>\n",
              "      <td>145000.0</td>\n",
              "      <td>5</td>\n",
              "      <td>volkswagen</td>\n",
              "      <td>golf 7</td>\n",
              "      <td>Essence</td>\n",
              "      <td>Manuelle</td>\n",
              "      <td>58500</td>\n",
              "    </tr>\n",
              "    <tr>\n",
              "      <th>1</th>\n",
              "      <td>115000.0</td>\n",
              "      <td>4</td>\n",
              "      <td>volkswagen</td>\n",
              "      <td>golf 7</td>\n",
              "      <td>Essence</td>\n",
              "      <td>Manuelle</td>\n",
              "      <td>52000</td>\n",
              "    </tr>\n",
              "    <tr>\n",
              "      <th>2</th>\n",
              "      <td>78000.0</td>\n",
              "      <td>7</td>\n",
              "      <td>volkswagen</td>\n",
              "      <td>golf 7</td>\n",
              "      <td>Essence</td>\n",
              "      <td>Manuelle</td>\n",
              "      <td>49000</td>\n",
              "    </tr>\n",
              "    <tr>\n",
              "      <th>3</th>\n",
              "      <td>125000.0</td>\n",
              "      <td>7</td>\n",
              "      <td>volkswagen</td>\n",
              "      <td>golf 7</td>\n",
              "      <td>Essence</td>\n",
              "      <td>Manuelle</td>\n",
              "      <td>55000</td>\n",
              "    </tr>\n",
              "    <tr>\n",
              "      <th>4</th>\n",
              "      <td>110000.0</td>\n",
              "      <td>6</td>\n",
              "      <td>volkswagen</td>\n",
              "      <td>golf 7</td>\n",
              "      <td>Essence</td>\n",
              "      <td>Manuelle</td>\n",
              "      <td>56000</td>\n",
              "    </tr>\n",
              "    <tr>\n",
              "      <th>...</th>\n",
              "      <td>...</td>\n",
              "      <td>...</td>\n",
              "      <td>...</td>\n",
              "      <td>...</td>\n",
              "      <td>...</td>\n",
              "      <td>...</td>\n",
              "      <td>...</td>\n",
              "    </tr>\n",
              "    <tr>\n",
              "      <th>44655</th>\n",
              "      <td>27800.0</td>\n",
              "      <td>2</td>\n",
              "      <td>mahindra</td>\n",
              "      <td>hover</td>\n",
              "      <td>Essence</td>\n",
              "      <td>Manuelle</td>\n",
              "      <td>31000</td>\n",
              "    </tr>\n",
              "    <tr>\n",
              "      <th>44656</th>\n",
              "      <td>127000.0</td>\n",
              "      <td>4</td>\n",
              "      <td>mahindra</td>\n",
              "      <td>hover</td>\n",
              "      <td>Essence</td>\n",
              "      <td>Manuelle</td>\n",
              "      <td>26500</td>\n",
              "    </tr>\n",
              "    <tr>\n",
              "      <th>44657</th>\n",
              "      <td>60000.0</td>\n",
              "      <td>3</td>\n",
              "      <td>mahindra</td>\n",
              "      <td>hover</td>\n",
              "      <td>Essence</td>\n",
              "      <td>Manuelle</td>\n",
              "      <td>35000</td>\n",
              "    </tr>\n",
              "    <tr>\n",
              "      <th>44658</th>\n",
              "      <td>46000.0</td>\n",
              "      <td>4</td>\n",
              "      <td>mahindra</td>\n",
              "      <td>hover</td>\n",
              "      <td>Essence</td>\n",
              "      <td>Manuelle</td>\n",
              "      <td>32500</td>\n",
              "    </tr>\n",
              "    <tr>\n",
              "      <th>44659</th>\n",
              "      <td>127000.0</td>\n",
              "      <td>4</td>\n",
              "      <td>mahindra</td>\n",
              "      <td>hover</td>\n",
              "      <td>Essence</td>\n",
              "      <td>Manuelle</td>\n",
              "      <td>26500</td>\n",
              "    </tr>\n",
              "  </tbody>\n",
              "</table>\n",
              "<p>41271 rows × 7 columns</p>\n",
              "</div>\n",
              "      <button class=\"colab-df-convert\" onclick=\"convertToInteractive('df-472ebf3b-e878-42db-9ec6-474ad3443a51')\"\n",
              "              title=\"Convert this dataframe to an interactive table.\"\n",
              "              style=\"display:none;\">\n",
              "        \n",
              "  <svg xmlns=\"http://www.w3.org/2000/svg\" height=\"24px\"viewBox=\"0 0 24 24\"\n",
              "       width=\"24px\">\n",
              "    <path d=\"M0 0h24v24H0V0z\" fill=\"none\"/>\n",
              "    <path d=\"M18.56 5.44l.94 2.06.94-2.06 2.06-.94-2.06-.94-.94-2.06-.94 2.06-2.06.94zm-11 1L8.5 8.5l.94-2.06 2.06-.94-2.06-.94L8.5 2.5l-.94 2.06-2.06.94zm10 10l.94 2.06.94-2.06 2.06-.94-2.06-.94-.94-2.06-.94 2.06-2.06.94z\"/><path d=\"M17.41 7.96l-1.37-1.37c-.4-.4-.92-.59-1.43-.59-.52 0-1.04.2-1.43.59L10.3 9.45l-7.72 7.72c-.78.78-.78 2.05 0 2.83L4 21.41c.39.39.9.59 1.41.59.51 0 1.02-.2 1.41-.59l7.78-7.78 2.81-2.81c.8-.78.8-2.07 0-2.86zM5.41 20L4 18.59l7.72-7.72 1.47 1.35L5.41 20z\"/>\n",
              "  </svg>\n",
              "      </button>\n",
              "      \n",
              "  <style>\n",
              "    .colab-df-container {\n",
              "      display:flex;\n",
              "      flex-wrap:wrap;\n",
              "      gap: 12px;\n",
              "    }\n",
              "\n",
              "    .colab-df-convert {\n",
              "      background-color: #E8F0FE;\n",
              "      border: none;\n",
              "      border-radius: 50%;\n",
              "      cursor: pointer;\n",
              "      display: none;\n",
              "      fill: #1967D2;\n",
              "      height: 32px;\n",
              "      padding: 0 0 0 0;\n",
              "      width: 32px;\n",
              "    }\n",
              "\n",
              "    .colab-df-convert:hover {\n",
              "      background-color: #E2EBFA;\n",
              "      box-shadow: 0px 1px 2px rgba(60, 64, 67, 0.3), 0px 1px 3px 1px rgba(60, 64, 67, 0.15);\n",
              "      fill: #174EA6;\n",
              "    }\n",
              "\n",
              "    [theme=dark] .colab-df-convert {\n",
              "      background-color: #3B4455;\n",
              "      fill: #D2E3FC;\n",
              "    }\n",
              "\n",
              "    [theme=dark] .colab-df-convert:hover {\n",
              "      background-color: #434B5C;\n",
              "      box-shadow: 0px 1px 3px 1px rgba(0, 0, 0, 0.15);\n",
              "      filter: drop-shadow(0px 1px 2px rgba(0, 0, 0, 0.3));\n",
              "      fill: #FFFFFF;\n",
              "    }\n",
              "  </style>\n",
              "\n",
              "      <script>\n",
              "        const buttonEl =\n",
              "          document.querySelector('#df-472ebf3b-e878-42db-9ec6-474ad3443a51 button.colab-df-convert');\n",
              "        buttonEl.style.display =\n",
              "          google.colab.kernel.accessAllowed ? 'block' : 'none';\n",
              "\n",
              "        async function convertToInteractive(key) {\n",
              "          const element = document.querySelector('#df-472ebf3b-e878-42db-9ec6-474ad3443a51');\n",
              "          const dataTable =\n",
              "            await google.colab.kernel.invokeFunction('convertToInteractive',\n",
              "                                                     [key], {});\n",
              "          if (!dataTable) return;\n",
              "\n",
              "          const docLinkHtml = 'Like what you see? Visit the ' +\n",
              "            '<a target=\"_blank\" href=https://colab.research.google.com/notebooks/data_table.ipynb>data table notebook</a>'\n",
              "            + ' to learn more about interactive tables.';\n",
              "          element.innerHTML = '';\n",
              "          dataTable['output_type'] = 'display_data';\n",
              "          await google.colab.output.renderOutput(dataTable, element);\n",
              "          const docLink = document.createElement('div');\n",
              "          docLink.innerHTML = docLinkHtml;\n",
              "          element.appendChild(docLink);\n",
              "        }\n",
              "      </script>\n",
              "    </div>\n",
              "  </div>\n",
              "  "
            ],
            "text/plain": [
              "       kilometrage  age      marque  modele carburant     boite   prix\n",
              "0         145000.0    5  volkswagen  golf 7   Essence  Manuelle  58500\n",
              "1         115000.0    4  volkswagen  golf 7   Essence  Manuelle  52000\n",
              "2          78000.0    7  volkswagen  golf 7   Essence  Manuelle  49000\n",
              "3         125000.0    7  volkswagen  golf 7   Essence  Manuelle  55000\n",
              "4         110000.0    6  volkswagen  golf 7   Essence  Manuelle  56000\n",
              "...            ...  ...         ...     ...       ...       ...    ...\n",
              "44655      27800.0    2    mahindra   hover   Essence  Manuelle  31000\n",
              "44656     127000.0    4    mahindra   hover   Essence  Manuelle  26500\n",
              "44657      60000.0    3    mahindra   hover   Essence  Manuelle  35000\n",
              "44658      46000.0    4    mahindra   hover   Essence  Manuelle  32500\n",
              "44659     127000.0    4    mahindra   hover   Essence  Manuelle  26500\n",
              "\n",
              "[41271 rows x 7 columns]"
            ]
          },
          "execution_count": 25,
          "metadata": {},
          "output_type": "execute_result"
        }
      ],
      "source": [
        "data['prix']=data['prix'].apply(float)\n",
        "data['prix']=data['prix'].apply(int)\n",
        "grouped_df = data.groupby('modele')['prix']\n",
        "median = grouped_df.median()\n",
        "q1 = grouped_df.quantile(0.25)\n",
        "q3 = grouped_df.quantile(0.75)\n",
        "iqr = q3 - q1\n",
        "\n",
        "lower_bound = median - 1.5 * iqr\n",
        "upper_bound = median + 1.5 * iqr\n",
        "\n",
        "# reset the index of lower_bound and upper_bound\n",
        "lower_bound = lower_bound.reset_index()\n",
        "upper_bound = upper_bound.reset_index()\n",
        "\n",
        "# merge the bounds with the original data\n",
        "merged_data = pd.merge(data, lower_bound, on='modele', suffixes=('', '_lower'))\n",
        "merged_data = pd.merge(merged_data, upper_bound, on='modele', suffixes=('', '_upper'))\n",
        "\n",
        "# create a Boolean mask for the outliers\n",
        "outliers_mask = (merged_data['prix'] >= merged_data['prix_lower']) & (merged_data['prix'] <= merged_data['prix_upper'])\n",
        "\n",
        "# filter the data to remove the outliers\n",
        "data = merged_data[outliers_mask]\n",
        "data.drop(['prix_upper', 'prix_lower'], axis=1, inplace=True)   \n",
        "data"
      ]
    },
    {
      "cell_type": "code",
      "execution_count": 26,
      "metadata": {
        "colab": {
          "base_uri": "https://localhost:8080/",
          "height": 0
        },
        "id": "C8UDei5dBd4P",
        "outputId": "d443d70f-a103-49ac-fd9d-cddff5edf0e4"
      },
      "outputs": [
        {
          "data": {
            "text/html": [
              "\n",
              "  <div id=\"df-f3221302-a5b4-4180-8eb2-7e91933cd80c\">\n",
              "    <div class=\"colab-df-container\">\n",
              "      <div>\n",
              "<style scoped>\n",
              "    .dataframe tbody tr th:only-of-type {\n",
              "        vertical-align: middle;\n",
              "    }\n",
              "\n",
              "    .dataframe tbody tr th {\n",
              "        vertical-align: top;\n",
              "    }\n",
              "\n",
              "    .dataframe thead th {\n",
              "        text-align: right;\n",
              "    }\n",
              "</style>\n",
              "<table border=\"1\" class=\"dataframe\">\n",
              "  <thead>\n",
              "    <tr style=\"text-align: right;\">\n",
              "      <th></th>\n",
              "      <th>kilometrage</th>\n",
              "      <th>age</th>\n",
              "      <th>prix</th>\n",
              "    </tr>\n",
              "  </thead>\n",
              "  <tbody>\n",
              "    <tr>\n",
              "      <th>count</th>\n",
              "      <td>41271.000000</td>\n",
              "      <td>41271.000000</td>\n",
              "      <td>41271.000000</td>\n",
              "    </tr>\n",
              "    <tr>\n",
              "      <th>mean</th>\n",
              "      <td>175313.099150</td>\n",
              "      <td>10.359114</td>\n",
              "      <td>28929.633762</td>\n",
              "    </tr>\n",
              "    <tr>\n",
              "      <th>std</th>\n",
              "      <td>76773.097668</td>\n",
              "      <td>5.496155</td>\n",
              "      <td>15439.712570</td>\n",
              "    </tr>\n",
              "    <tr>\n",
              "      <th>min</th>\n",
              "      <td>5000.000000</td>\n",
              "      <td>0.000000</td>\n",
              "      <td>10000.000000</td>\n",
              "    </tr>\n",
              "    <tr>\n",
              "      <th>25%</th>\n",
              "      <td>120000.000000</td>\n",
              "      <td>6.000000</td>\n",
              "      <td>18500.000000</td>\n",
              "    </tr>\n",
              "    <tr>\n",
              "      <th>50%</th>\n",
              "      <td>170000.000000</td>\n",
              "      <td>10.000000</td>\n",
              "      <td>25000.000000</td>\n",
              "    </tr>\n",
              "    <tr>\n",
              "      <th>75%</th>\n",
              "      <td>220000.000000</td>\n",
              "      <td>14.000000</td>\n",
              "      <td>34000.000000</td>\n",
              "    </tr>\n",
              "    <tr>\n",
              "      <th>max</th>\n",
              "      <td>400000.000000</td>\n",
              "      <td>29.000000</td>\n",
              "      <td>146000.000000</td>\n",
              "    </tr>\n",
              "  </tbody>\n",
              "</table>\n",
              "</div>\n",
              "      <button class=\"colab-df-convert\" onclick=\"convertToInteractive('df-f3221302-a5b4-4180-8eb2-7e91933cd80c')\"\n",
              "              title=\"Convert this dataframe to an interactive table.\"\n",
              "              style=\"display:none;\">\n",
              "        \n",
              "  <svg xmlns=\"http://www.w3.org/2000/svg\" height=\"24px\"viewBox=\"0 0 24 24\"\n",
              "       width=\"24px\">\n",
              "    <path d=\"M0 0h24v24H0V0z\" fill=\"none\"/>\n",
              "    <path d=\"M18.56 5.44l.94 2.06.94-2.06 2.06-.94-2.06-.94-.94-2.06-.94 2.06-2.06.94zm-11 1L8.5 8.5l.94-2.06 2.06-.94-2.06-.94L8.5 2.5l-.94 2.06-2.06.94zm10 10l.94 2.06.94-2.06 2.06-.94-2.06-.94-.94-2.06-.94 2.06-2.06.94z\"/><path d=\"M17.41 7.96l-1.37-1.37c-.4-.4-.92-.59-1.43-.59-.52 0-1.04.2-1.43.59L10.3 9.45l-7.72 7.72c-.78.78-.78 2.05 0 2.83L4 21.41c.39.39.9.59 1.41.59.51 0 1.02-.2 1.41-.59l7.78-7.78 2.81-2.81c.8-.78.8-2.07 0-2.86zM5.41 20L4 18.59l7.72-7.72 1.47 1.35L5.41 20z\"/>\n",
              "  </svg>\n",
              "      </button>\n",
              "      \n",
              "  <style>\n",
              "    .colab-df-container {\n",
              "      display:flex;\n",
              "      flex-wrap:wrap;\n",
              "      gap: 12px;\n",
              "    }\n",
              "\n",
              "    .colab-df-convert {\n",
              "      background-color: #E8F0FE;\n",
              "      border: none;\n",
              "      border-radius: 50%;\n",
              "      cursor: pointer;\n",
              "      display: none;\n",
              "      fill: #1967D2;\n",
              "      height: 32px;\n",
              "      padding: 0 0 0 0;\n",
              "      width: 32px;\n",
              "    }\n",
              "\n",
              "    .colab-df-convert:hover {\n",
              "      background-color: #E2EBFA;\n",
              "      box-shadow: 0px 1px 2px rgba(60, 64, 67, 0.3), 0px 1px 3px 1px rgba(60, 64, 67, 0.15);\n",
              "      fill: #174EA6;\n",
              "    }\n",
              "\n",
              "    [theme=dark] .colab-df-convert {\n",
              "      background-color: #3B4455;\n",
              "      fill: #D2E3FC;\n",
              "    }\n",
              "\n",
              "    [theme=dark] .colab-df-convert:hover {\n",
              "      background-color: #434B5C;\n",
              "      box-shadow: 0px 1px 3px 1px rgba(0, 0, 0, 0.15);\n",
              "      filter: drop-shadow(0px 1px 2px rgba(0, 0, 0, 0.3));\n",
              "      fill: #FFFFFF;\n",
              "    }\n",
              "  </style>\n",
              "\n",
              "      <script>\n",
              "        const buttonEl =\n",
              "          document.querySelector('#df-f3221302-a5b4-4180-8eb2-7e91933cd80c button.colab-df-convert');\n",
              "        buttonEl.style.display =\n",
              "          google.colab.kernel.accessAllowed ? 'block' : 'none';\n",
              "\n",
              "        async function convertToInteractive(key) {\n",
              "          const element = document.querySelector('#df-f3221302-a5b4-4180-8eb2-7e91933cd80c');\n",
              "          const dataTable =\n",
              "            await google.colab.kernel.invokeFunction('convertToInteractive',\n",
              "                                                     [key], {});\n",
              "          if (!dataTable) return;\n",
              "\n",
              "          const docLinkHtml = 'Like what you see? Visit the ' +\n",
              "            '<a target=\"_blank\" href=https://colab.research.google.com/notebooks/data_table.ipynb>data table notebook</a>'\n",
              "            + ' to learn more about interactive tables.';\n",
              "          element.innerHTML = '';\n",
              "          dataTable['output_type'] = 'display_data';\n",
              "          await google.colab.output.renderOutput(dataTable, element);\n",
              "          const docLink = document.createElement('div');\n",
              "          docLink.innerHTML = docLinkHtml;\n",
              "          element.appendChild(docLink);\n",
              "        }\n",
              "      </script>\n",
              "    </div>\n",
              "  </div>\n",
              "  "
            ],
            "text/plain": [
              "         kilometrage           age           prix\n",
              "count   41271.000000  41271.000000   41271.000000\n",
              "mean   175313.099150     10.359114   28929.633762\n",
              "std     76773.097668      5.496155   15439.712570\n",
              "min      5000.000000      0.000000   10000.000000\n",
              "25%    120000.000000      6.000000   18500.000000\n",
              "50%    170000.000000     10.000000   25000.000000\n",
              "75%    220000.000000     14.000000   34000.000000\n",
              "max    400000.000000     29.000000  146000.000000"
            ]
          },
          "execution_count": 26,
          "metadata": {},
          "output_type": "execute_result"
        }
      ],
      "source": [
        "data.describe() "
      ]
    },
    {
      "cell_type": "code",
      "execution_count": 27,
      "metadata": {
        "colab": {
          "base_uri": "https://localhost:8080/",
          "height": 0
        },
        "id": "4YsUDcM0GsSo",
        "outputId": "1ce7f6cd-8d73-4a04-9d8f-f69102649e3e"
      },
      "outputs": [
        {
          "data": {
            "image/png": "[encoded data removed]",
            "text/plain": [
              "<Figure size 2000x800 with 2 Axes>"
            ]
          },
          "metadata": {},
          "output_type": "display_data"
        }
      ],
      "source": [
        "\n",
        "plt.figure(figsize=(20,8))\n",
        "\n",
        "plt.subplot(1,2,1)\n",
        "plt.title('Car Price Distribution Plot')\n",
        "sns.distplot(data.prix)                                                               \n",
        "\n",
        "plt.subplot(1,2,2)\n",
        "plt.title('Car Price Spread')\n",
        "sns.boxplot(y=data.prix) \n",
        "                                                       \n",
        "plt.show() "
      ]
    },
    {
      "cell_type": "code",
      "execution_count": 27,
      "metadata": {
        "id": "KT7lLemosMnd"
      },
      "outputs": [],
      "source": []
    },
    {
      "cell_type": "code",
      "execution_count": 28,
      "metadata": {
        "colab": {
          "base_uri": "https://localhost:8080/",
          "height": 0
        },
        "id": "vGWNvgL8mL4r",
        "outputId": "9a161553-1cba-4260-afd7-c8e7f1654620"
      },
      "outputs": [
        {
          "data": {
            "text/plain": [
              "<Axes: ylabel='Frequency'>"
            ]
          },
          "execution_count": 28,
          "metadata": {},
          "output_type": "execute_result"
        },
        {
          "data": {
            "image/png": "[encoded data removed]",
            "text/plain": [
              "<Figure size 640x480 with 1 Axes>"
            ]
          },
          "metadata": {},
          "output_type": "display_data"
        }
      ],
      "source": [
        "data['kilometrage'].plot(kind='hist') "
      ]
    },
    {
      "cell_type": "code",
      "execution_count": 29,
      "metadata": {
        "colab": {
          "base_uri": "https://localhost:8080/",
          "height": 0
        },
        "id": "SmboZwCcm810",
        "outputId": "f9d1c63a-a58f-4580-ec93-d71350af7b46"
      },
      "outputs": [
        {
          "data": {
            "text/plain": [
              "<Axes: ylabel='Frequency'>"
            ]
          },
          "execution_count": 29,
          "metadata": {},
          "output_type": "execute_result"
        },
        {
          "data": {
            "image/png": "[encoded data removed]",
            "text/plain": [
              "<Figure size 640x480 with 1 Axes>"
            ]
          },
          "metadata": {},
          "output_type": "display_data"
        }
      ],
      "source": [
        "data['age'].plot(kind='hist') "
      ]
    },
    {
      "cell_type": "code",
      "execution_count": 30,
      "metadata": {
        "colab": {
          "base_uri": "https://localhost:8080/",
          "height": 0
        },
        "id": "hlfrYB6hHAjT",
        "outputId": "d2700bc1-9878-407a-fcba-ce5dab33fd86"
      },
      "outputs": [
        {
          "data": {
            "image/png": "[encoded data removed]",
            "text/plain": [
              "<Figure size 2000x800 with 2 Axes>"
            ]
          },
          "metadata": {},
          "output_type": "display_data"
        }
      ],
      "source": [
        "\n",
        "plt.figure(figsize=(20,8))\n",
        "\n",
        "plt.subplot(1,2,1)\n",
        "plt.title('Car miles Distribution Plot')\n",
        "sns.distplot(data.kilometrage)                                                               \n",
        "\n",
        "plt.subplot(1,2,2)\n",
        "plt.title('Car miles Spread')\n",
        "sns.boxplot(y=data.kilometrage) \n",
        "                                                       \n",
        "plt.show() "
      ]
    },
    {
      "cell_type": "code",
      "execution_count": 31,
      "metadata": {
        "colab": {
          "base_uri": "https://localhost:8080/"
        },
        "id": "Wwvea66aHMEx",
        "outputId": "ddd5dc29-3655-419b-ab26-62dbcc3d58df"
      },
      "outputs": [
        {
          "data": {
            "text/plain": [
              "prix           2.058766\n",
              "age            0.636952\n",
              "kilometrage    0.449809\n",
              "dtype: float64"
            ]
          },
          "execution_count": 31,
          "metadata": {},
          "output_type": "execute_result"
        }
      ],
      "source": [
        "old_skew = data.skew().sort_values(ascending=False)\n",
        "old_skew #price is skewed to the right "
      ]
    },
    {
      "attachments": {},
      "cell_type": "markdown",
      "metadata": {
        "id": "HQQFk_gG5q1q"
      },
      "source": [
        "# data leck"
      ]
    },
    {
      "cell_type": "code",
      "execution_count": 32,
      "metadata": {
        "id": "PLuzVSaJ5qAN"
      },
      "outputs": [],
      "source": [
        "new_df = data.copy()\n",
        "new_df = pd.get_dummies(new_df, columns = ['carburant', 'boite', 'marque', 'modele'])\n"
      ]
    },
    {
      "cell_type": "code",
      "execution_count": 33,
      "metadata": {
        "colab": {
          "base_uri": "https://localhost:8080/"
        },
        "id": "-bU_0zInaeOY",
        "outputId": "75ec40a7-8d29-481e-b794-052913b32849"
      },
      "outputs": [
        {
          "data": {
            "text/plain": [
              "Index(['kilometrage', 'age', 'prix', 'carburant_Diesel',\n",
              "       'carburant_Electrique', 'carburant_Essence', 'carburant_Hybride',\n",
              "       'boite_Automatique', 'boite_Manuelle', 'marque_audi',\n",
              "       ...\n",
              "       'modele_sandero', 'modele_scenic', 'modele_serie 1', 'modele_serie 3',\n",
              "       'modele_serie 5', 'modele_siena', 'modele_sportage', 'modele_swift',\n",
              "       'modele_symbol', 'modele_yaris'],\n",
              "      dtype='object', length=135)"
            ]
          },
          "execution_count": 33,
          "metadata": {},
          "output_type": "execute_result"
        }
      ],
      "source": [
        "columns = new_df.columns\n",
        "columns"
      ]
    },
    {
      "cell_type": "code",
      "execution_count": 34,
      "metadata": {
        "colab": {
          "base_uri": "https://localhost:8080/"
        },
        "id": "p-GL-KB9_5tX",
        "outputId": "f86c04a8-4dea-4208-d2b3-9e6f51c30c48"
      },
      "outputs": [
        {
          "data": {
            "text/plain": [
              "array([[1.45e+05, 5.00e+00, 5.85e+04, ..., 0.00e+00, 0.00e+00, 0.00e+00],\n",
              "       [1.15e+05, 4.00e+00, 5.20e+04, ..., 0.00e+00, 0.00e+00, 0.00e+00],\n",
              "       [7.80e+04, 7.00e+00, 4.90e+04, ..., 0.00e+00, 0.00e+00, 0.00e+00],\n",
              "       ...,\n",
              "       [6.00e+04, 3.00e+00, 3.50e+04, ..., 0.00e+00, 0.00e+00, 0.00e+00],\n",
              "       [4.60e+04, 4.00e+00, 3.25e+04, ..., 0.00e+00, 0.00e+00, 0.00e+00],\n",
              "       [1.27e+05, 4.00e+00, 2.65e+04, ..., 0.00e+00, 0.00e+00, 0.00e+00]])"
            ]
          },
          "execution_count": 34,
          "metadata": {},
          "output_type": "execute_result"
        }
      ],
      "source": [
        "new_df.to_numpy()"
      ]
    },
    {
      "cell_type": "code",
      "execution_count": 35,
      "metadata": {
        "id": "B_UPeT3YvUI1"
      },
      "outputs": [],
      "source": [
        "new_df = np.array(new_df)\n",
        "sorted_indexes = np.argsort(new_df[:,2])\n",
        "sorted_samples = new_df[sorted_indexes]\n",
        "split = 0.20\n",
        "real_index = 0\n",
        "index = 0 \n",
        "test_set = []\n",
        "while real_index < sorted_samples.shape[0]:\n",
        "  index = int(np.round(real_index))\n",
        "  test_set.append(sorted_samples[index])\n",
        "  real_index += 1/split\n",
        "train_set = list(new_df)\n",
        "train_set = [list(x) for x in new_df]\n",
        "for sample in test_set:\n",
        "  train_set.remove(list(sample))\n"
      ]
    },
    {
      "cell_type": "code",
      "execution_count": 36,
      "metadata": {
        "id": "kYrShOa7aX5B"
      },
      "outputs": [],
      "source": [
        "train_set = pd.DataFrame(train_set, columns = columns)"
      ]
    },
    {
      "cell_type": "code",
      "execution_count": 37,
      "metadata": {
        "id": "Wzu4dwu1bB-O"
      },
      "outputs": [],
      "source": [
        "test_set = pd.DataFrame(test_set, columns = columns)"
      ]
    },
    {
      "cell_type": "code",
      "execution_count": 38,
      "metadata": {
        "colab": {
          "base_uri": "https://localhost:8080/"
        },
        "id": "qmkBBdLLbTNp",
        "outputId": "74b746b0-7fa6-42c9-bbae-14a2049ceb15"
      },
      "outputs": [
        {
          "data": {
            "text/plain": [
              "((33016, 135), (8255, 135))"
            ]
          },
          "execution_count": 38,
          "metadata": {},
          "output_type": "execute_result"
        }
      ],
      "source": [
        "train_set.shape , test_set.shape"
      ]
    },
    {
      "cell_type": "code",
      "execution_count": 39,
      "metadata": {
        "id": "gTpmaWi0LgLd"
      },
      "outputs": [],
      "source": [
        "x_train = train_set.drop('prix', axis = 1)\n",
        "x_test = test_set.drop('prix', axis = 1)\n",
        "\n",
        "y_test = test_set[['prix']]\n",
        "y_train = train_set[['prix']]"
      ]
    },
    {
      "cell_type": "code",
      "execution_count": 40,
      "metadata": {
        "colab": {
          "base_uri": "https://localhost:8080/"
        },
        "id": "CDzwAh8ib9Pn",
        "outputId": "2aa6500b-0b0f-402f-dc07-33e2d2a2433d"
      },
      "outputs": [
        {
          "name": "stdout",
          "output_type": "stream",
          "text": [
            "x_train - >   (33016, 134)\n",
            "x_test - >   (8255, 134)\n",
            "y_train - >   (33016, 1)\n",
            "y_test - >   (8255, 1)\n"
          ]
        }
      ],
      "source": [
        "print(\"x_train - >  \",x_train.shape)\n",
        "print(\"x_test - >  \",x_test.shape)\n",
        "print(\"y_train - >  \",y_train.shape)\n",
        "print(\"y_test - >  \",y_test.shape)\n"
      ]
    },
    {
      "cell_type": "code",
      "execution_count": 41,
      "metadata": {
        "id": "nrj1F3SIDQ9A"
      },
      "outputs": [],
      "source": [
        "from sklearn.preprocessing import RobustScaler\n",
        "scaler = RobustScaler()\n",
        "\n",
        "\n",
        "y_train_scaled = scaler.fit_transform(y_train)\n",
        "y_test_scaled = scaler.transform(y_test)\n",
        "\n",
        "y_train_scaled = y_train_scaled.flatten()\n",
        "y_test_scaled = y_test_scaled.flatten()\n",
        "\n",
        "#turn to df\n",
        "y_train = pd.DataFrame(y_train_scaled, columns=['prix'])\n",
        "y_test = pd.DataFrame(y_test_scaled, columns=['prix']) "
      ]
    },
    {
      "cell_type": "code",
      "execution_count": 42,
      "metadata": {
        "colab": {
          "base_uri": "https://localhost:8080/"
        },
        "id": "pAcW6t1wdbPV",
        "outputId": "6fc129a8-c1b0-4a4b-c1f3-25605dc16b11"
      },
      "outputs": [
        {
          "data": {
            "text/plain": [
              "Index(['kilometrage', 'age', 'carburant_Diesel', 'carburant_Electrique',\n",
              "       'carburant_Essence', 'carburant_Hybride', 'boite_Automatique',\n",
              "       'boite_Manuelle', 'marque_audi', 'marque_autres',\n",
              "       ...\n",
              "       'modele_sandero', 'modele_scenic', 'modele_serie 1', 'modele_serie 3',\n",
              "       'modele_serie 5', 'modele_siena', 'modele_sportage', 'modele_swift',\n",
              "       'modele_symbol', 'modele_yaris'],\n",
              "      dtype='object', length=134)"
            ]
          },
          "execution_count": 42,
          "metadata": {},
          "output_type": "execute_result"
        }
      ],
      "source": [
        "x_train.columns"
      ]
    },
    {
      "cell_type": "code",
      "execution_count": 43,
      "metadata": {
        "id": "8YGWUYpU59zd"
      },
      "outputs": [],
      "source": [
        "features_to_scale = ['age', 'kilometrage']\n",
        "\n",
        "scaler = RobustScaler()\n",
        "\n",
        "x_train[features_to_scale] = scaler.fit_transform(x_train[features_to_scale])\n",
        "\n",
        "x_test[features_to_scale] = scaler.transform(x_test[features_to_scale])"
      ]
    },
    {
      "cell_type": "code",
      "execution_count": 44,
      "metadata": {
        "colab": {
          "base_uri": "https://localhost:8080/",
          "height": 248
        },
        "id": "-s6-E1Cf6hP6",
        "outputId": "b464eca1-3fb1-4e72-ef35-6f7d07927254"
      },
      "outputs": [
        {
          "data": {
            "text/html": [
              "<style>#sk-container-id-1 {color: black;background-color: white;}#sk-container-id-1 pre{padding: 0;}#sk-container-id-1 div.sk-toggleable {background-color: white;}#sk-container-id-1 label.sk-toggleable__label {cursor: pointer;display: block;width: 100%;margin-bottom: 0;padding: 0.3em;box-sizing: border-box;text-align: center;}#sk-container-id-1 label.sk-toggleable__label-arrow:before {content: \"▸\";float: left;margin-right: 0.25em;color: #696969;}#sk-container-id-1 label.sk-toggleable__label-arrow:hover:before {color: black;}#sk-container-id-1 div.sk-estimator:hover label.sk-toggleable__label-arrow:before {color: black;}#sk-container-id-1 div.sk-toggleable__content {max-height: 0;max-width: 0;overflow: hidden;text-align: left;background-color: #f0f8ff;}#sk-container-id-1 div.sk-toggleable__content pre {margin: 0.2em;color: black;border-radius: 0.25em;background-color: #f0f8ff;}#sk-container-id-1 input.sk-toggleable__control:checked~div.sk-toggleable__content {max-height: 200px;max-width: 100%;overflow: auto;}#sk-container-id-1 input.sk-toggleable__control:checked~label.sk-toggleable__label-arrow:before {content: \"▾\";}#sk-container-id-1 div.sk-estimator input.sk-toggleable__control:checked~label.sk-toggleable__label {background-color: #d4ebff;}#sk-container-id-1 div.sk-label input.sk-toggleable__control:checked~label.sk-toggleable__label {background-color: #d4ebff;}#sk-container-id-1 input.sk-hidden--visually {border: 0;clip: rect(1px 1px 1px 1px);clip: rect(1px, 1px, 1px, 1px);height: 1px;margin: -1px;overflow: hidden;padding: 0;position: absolute;width: 1px;}#sk-container-id-1 div.sk-estimator {font-family: monospace;background-color: #f0f8ff;border: 1px dotted black;border-radius: 0.25em;box-sizing: border-box;margin-bottom: 0.5em;}#sk-container-id-1 div.sk-estimator:hover {background-color: #d4ebff;}#sk-container-id-1 div.sk-parallel-item::after {content: \"\";width: 100%;border-bottom: 1px solid gray;flex-grow: 1;}#sk-container-id-1 div.sk-label:hover label.sk-toggleable__label {background-color: #d4ebff;}#sk-container-id-1 div.sk-serial::before {content: \"\";position: absolute;border-left: 1px solid gray;box-sizing: border-box;top: 0;bottom: 0;left: 50%;z-index: 0;}#sk-container-id-1 div.sk-serial {display: flex;flex-direction: column;align-items: center;background-color: white;padding-right: 0.2em;padding-left: 0.2em;position: relative;}#sk-container-id-1 div.sk-item {position: relative;z-index: 1;}#sk-container-id-1 div.sk-parallel {display: flex;align-items: stretch;justify-content: center;background-color: white;position: relative;}#sk-container-id-1 div.sk-item::before, #sk-container-id-1 div.sk-parallel-item::before {content: \"\";position: absolute;border-left: 1px solid gray;box-sizing: border-box;top: 0;bottom: 0;left: 50%;z-index: -1;}#sk-container-id-1 div.sk-parallel-item {display: flex;flex-direction: column;z-index: 1;position: relative;background-color: white;}#sk-container-id-1 div.sk-parallel-item:first-child::after {align-self: flex-end;width: 50%;}#sk-container-id-1 div.sk-parallel-item:last-child::after {align-self: flex-start;width: 50%;}#sk-container-id-1 div.sk-parallel-item:only-child::after {width: 0;}#sk-container-id-1 div.sk-dashed-wrapped {border: 1px dashed gray;margin: 0 0.4em 0.5em 0.4em;box-sizing: border-box;padding-bottom: 0.4em;background-color: white;}#sk-container-id-1 div.sk-label label {font-family: monospace;font-weight: bold;display: inline-block;line-height: 1.2em;}#sk-container-id-1 div.sk-label-container {text-align: center;}#sk-container-id-1 div.sk-container {/* jupyter's `normalize.less` sets `[hidden] { display: none; }` but bootstrap.min.css set `[hidden] { display: none !important; }` so we also need the `!important` here to be able to override the default hidden behavior on the sphinx rendered scikit-learn.org. See: https://github.com/scikit-learn/scikit-learn/issues/21755 */display: inline-block !important;position: relative;}#sk-container-id-1 div.sk-text-repr-fallback {display: none;}</style><div id=\"sk-container-id-1\" class=\"sk-top-container\"><div class=\"sk-text-repr-fallback\"><pre>XGBRegressor(base_score=None, booster=None, callbacks=None,\n",
              "             colsample_bylevel=None, colsample_bynode=None,\n",
              "             colsample_bytree=None, early_stopping_rounds=None,\n",
              "             enable_categorical=False, eval_metric=None, feature_types=None,\n",
              "             gamma=None, gpu_id=None, grow_policy=None, importance_type=None,\n",
              "             interaction_constraints=None, learning_rate=0.1, max_bin=None,\n",
              "             max_cat_threshold=None, max_cat_to_onehot=None,\n",
              "             max_delta_step=None, max_depth=None, max_leaves=None,\n",
              "             min_child_weight=None, missing=nan, monotone_constraints=None,\n",
              "             n_estimators=1000, n_jobs=None, num_parallel_tree=None,\n",
              "             predictor=None, random_state=42, ...)</pre><b>In a Jupyter environment, please rerun this cell to show the HTML representation or trust the notebook. <br />On GitHub, the HTML representation is unable to render, please try loading this page with nbviewer.org.</b></div><div class=\"sk-container\" hidden><div class=\"sk-item\"><div class=\"sk-estimator sk-toggleable\"><input class=\"sk-toggleable__control sk-hidden--visually\" id=\"sk-estimator-id-1\" type=\"checkbox\" checked><label for=\"sk-estimator-id-1\" class=\"sk-toggleable__label sk-toggleable__label-arrow\">XGBRegressor</label><div class=\"sk-toggleable__content\"><pre>XGBRegressor(base_score=None, booster=None, callbacks=None,\n",
              "             colsample_bylevel=None, colsample_bynode=None,\n",
              "             colsample_bytree=None, early_stopping_rounds=None,\n",
              "             enable_categorical=False, eval_metric=None, feature_types=None,\n",
              "             gamma=None, gpu_id=None, grow_policy=None, importance_type=None,\n",
              "             interaction_constraints=None, learning_rate=0.1, max_bin=None,\n",
              "             max_cat_threshold=None, max_cat_to_onehot=None,\n",
              "             max_delta_step=None, max_depth=None, max_leaves=None,\n",
              "             min_child_weight=None, missing=nan, monotone_constraints=None,\n",
              "             n_estimators=1000, n_jobs=None, num_parallel_tree=None,\n",
              "             predictor=None, random_state=42, ...)</pre></div></div></div></div></div>"
            ],
            "text/plain": [
              "XGBRegressor(base_score=None, booster=None, callbacks=None,\n",
              "             colsample_bylevel=None, colsample_bynode=None,\n",
              "             colsample_bytree=None, early_stopping_rounds=None,\n",
              "             enable_categorical=False, eval_metric=None, feature_types=None,\n",
              "             gamma=None, gpu_id=None, grow_policy=None, importance_type=None,\n",
              "             interaction_constraints=None, learning_rate=0.1, max_bin=None,\n",
              "             max_cat_threshold=None, max_cat_to_onehot=None,\n",
              "             max_delta_step=None, max_depth=None, max_leaves=None,\n",
              "             min_child_weight=None, missing=nan, monotone_constraints=None,\n",
              "             n_estimators=1000, n_jobs=None, num_parallel_tree=None,\n",
              "             predictor=None, random_state=42, ...)"
            ]
          },
          "execution_count": 44,
          "metadata": {},
          "output_type": "execute_result"
        }
      ],
      "source": [
        "import xgboost \n",
        "xgb = xgboost.XGBRegressor(n_estimators=1000, random_state=42, learning_rate=0.1)\n",
        "xgb.fit(x_train, y_train) \n",
        "\n"
      ]
    },
    {
      "cell_type": "code",
      "execution_count": 45,
      "metadata": {
        "colab": {
          "base_uri": "https://localhost:8080/"
        },
        "id": "B4pN35vZsA4u",
        "outputId": "487e9c24-1e42-4dea-ae78-1d90a0f14d8e"
      },
      "outputs": [
        {
          "name": "stdout",
          "output_type": "stream",
          "text": [
            "Mean Absolute Error: 0.19134499104145475 TND.\n",
            "R^2 :  0.8985127263581492\n",
            "RMSE: 0.31779130420334656\n"
          ]
        }
      ],
      "source": [
        "predictions = xgb.predict(x_test)\n",
        "\n",
        "\n",
        "errors = abs(predictions - y_test['prix'].values)\n",
        "print('Mean Absolute Error:', (np.mean(errors)), 'TND.')\n",
        "print(\"R^2 : \", r2_score(y_test, predictions))\n",
        "print(\"RMSE:\",np.sqrt(mean_squared_error(y_test, predictions)))"
      ]
    },
    {
      "cell_type": "code",
      "execution_count": 46,
      "metadata": {
        "colab": {
          "base_uri": "https://localhost:8080/"
        },
        "id": "sgS8TSsFhxyM",
        "outputId": "f9161798-9837-46ac-df76-8a5564a6089e"
      },
      "outputs": [
        {
          "data": {
            "text/plain": [
              "((8255, 134), (8255, 1))"
            ]
          },
          "execution_count": 46,
          "metadata": {},
          "output_type": "execute_result"
        }
      ],
      "source": [
        "x_test.shape, y_test.shape"
      ]
    },
    {
      "cell_type": "code",
      "execution_count": 47,
      "metadata": {
        "colab": {
          "base_uri": "https://localhost:8080/"
        },
        "id": "H7ZepjRu6g-k",
        "outputId": "be77ed98-25a6-4c45-a286-b446463b90a1"
      },
      "outputs": [
        {
          "name": "stdout",
          "output_type": "stream",
          "text": [
            "Epoch 1/200\n",
            "258/258 [==============================] - 4s 14ms/step - loss: 0.2119 - root_mean_squared_error: 0.4604 - val_loss: 0.1245 - val_root_mean_squared_error: 0.3528 - lr: 0.0010\n",
            "Epoch 2/200\n",
            "258/258 [==============================] - 1s 3ms/step - loss: 0.1169 - root_mean_squared_error: 0.3418 - val_loss: 0.1197 - val_root_mean_squared_error: 0.3460 - lr: 0.0010\n",
            "Epoch 3/200\n",
            "258/258 [==============================] - 1s 3ms/step - loss: 0.1124 - root_mean_squared_error: 0.3352 - val_loss: 0.1185 - val_root_mean_squared_error: 0.3442 - lr: 0.0010\n",
            "Epoch 4/200\n",
            "258/258 [==============================] - 1s 3ms/step - loss: 0.1088 - root_mean_squared_error: 0.3298 - val_loss: 0.1160 - val_root_mean_squared_error: 0.3405 - lr: 0.0010\n",
            "Epoch 5/200\n",
            "258/258 [==============================] - 1s 4ms/step - loss: 0.1079 - root_mean_squared_error: 0.3285 - val_loss: 0.1129 - val_root_mean_squared_error: 0.3359 - lr: 0.0010\n",
            "Epoch 6/200\n",
            "258/258 [==============================] - 1s 4ms/step - loss: 0.1067 - root_mean_squared_error: 0.3267 - val_loss: 0.1150 - val_root_mean_squared_error: 0.3392 - lr: 0.0010\n",
            "Epoch 7/200\n",
            "258/258 [==============================] - 1s 4ms/step - loss: 0.1043 - root_mean_squared_error: 0.3230 - val_loss: 0.1172 - val_root_mean_squared_error: 0.3423 - lr: 0.0010\n",
            "Epoch 8/200\n",
            "258/258 [==============================] - 1s 3ms/step - loss: 0.1040 - root_mean_squared_error: 0.3225 - val_loss: 0.1160 - val_root_mean_squared_error: 0.3406 - lr: 0.0010\n",
            "Epoch 9/200\n",
            "258/258 [==============================] - 1s 3ms/step - loss: 0.1029 - root_mean_squared_error: 0.3208 - val_loss: 0.1113 - val_root_mean_squared_error: 0.3336 - lr: 0.0010\n",
            "Epoch 10/200\n",
            "258/258 [==============================] - 1s 3ms/step - loss: 0.1022 - root_mean_squared_error: 0.3197 - val_loss: 0.1168 - val_root_mean_squared_error: 0.3417 - lr: 0.0010\n",
            "Epoch 11/200\n",
            "258/258 [==============================] - 1s 3ms/step - loss: 0.1015 - root_mean_squared_error: 0.3186 - val_loss: 0.1119 - val_root_mean_squared_error: 0.3345 - lr: 0.0010\n",
            "Epoch 12/200\n",
            "258/258 [==============================] - 1s 3ms/step - loss: 0.1003 - root_mean_squared_error: 0.3168 - val_loss: 0.1117 - val_root_mean_squared_error: 0.3343 - lr: 0.0010\n",
            "Epoch 13/200\n",
            "258/258 [==============================] - 1s 3ms/step - loss: 0.0995 - root_mean_squared_error: 0.3155 - val_loss: 0.1126 - val_root_mean_squared_error: 0.3356 - lr: 0.0010\n",
            "Epoch 14/200\n",
            "258/258 [==============================] - 1s 3ms/step - loss: 0.0998 - root_mean_squared_error: 0.3158 - val_loss: 0.1106 - val_root_mean_squared_error: 0.3325 - lr: 0.0010\n",
            "Epoch 15/200\n",
            "258/258 [==============================] - 1s 3ms/step - loss: 0.0990 - root_mean_squared_error: 0.3146 - val_loss: 0.1106 - val_root_mean_squared_error: 0.3325 - lr: 0.0010\n",
            "Epoch 16/200\n",
            "258/258 [==============================] - 1s 3ms/step - loss: 0.0992 - root_mean_squared_error: 0.3150 - val_loss: 0.1100 - val_root_mean_squared_error: 0.3317 - lr: 0.0010\n",
            "Epoch 17/200\n",
            "258/258 [==============================] - 1s 3ms/step - loss: 0.0976 - root_mean_squared_error: 0.3124 - val_loss: 0.1167 - val_root_mean_squared_error: 0.3416 - lr: 0.0010\n",
            "Epoch 18/200\n",
            "258/258 [==============================] - 1s 3ms/step - loss: 0.0975 - root_mean_squared_error: 0.3123 - val_loss: 0.1128 - val_root_mean_squared_error: 0.3359 - lr: 0.0010\n",
            "Epoch 19/200\n",
            "258/258 [==============================] - 1s 3ms/step - loss: 0.0974 - root_mean_squared_error: 0.3121 - val_loss: 0.1106 - val_root_mean_squared_error: 0.3325 - lr: 0.0010\n",
            "Epoch 20/200\n",
            "258/258 [==============================] - 1s 3ms/step - loss: 0.0956 - root_mean_squared_error: 0.3092 - val_loss: 0.1090 - val_root_mean_squared_error: 0.3302 - lr: 0.0010\n",
            "Epoch 21/200\n",
            "258/258 [==============================] - 1s 4ms/step - loss: 0.0954 - root_mean_squared_error: 0.3089 - val_loss: 0.1116 - val_root_mean_squared_error: 0.3341 - lr: 0.0010\n",
            "Epoch 22/200\n",
            "258/258 [==============================] - 1s 4ms/step - loss: 0.0960 - root_mean_squared_error: 0.3099 - val_loss: 0.1104 - val_root_mean_squared_error: 0.3322 - lr: 0.0010\n",
            "Epoch 23/200\n",
            "258/258 [==============================] - 1s 3ms/step - loss: 0.0955 - root_mean_squared_error: 0.3090 - val_loss: 0.1094 - val_root_mean_squared_error: 0.3308 - lr: 0.0010\n",
            "Epoch 24/200\n",
            "258/258 [==============================] - 1s 3ms/step - loss: 0.0948 - root_mean_squared_error: 0.3079 - val_loss: 0.1088 - val_root_mean_squared_error: 0.3298 - lr: 0.0010\n",
            "Epoch 25/200\n",
            "258/258 [==============================] - 1s 3ms/step - loss: 0.0940 - root_mean_squared_error: 0.3066 - val_loss: 0.1109 - val_root_mean_squared_error: 0.3330 - lr: 0.0010\n",
            "Epoch 26/200\n",
            "258/258 [==============================] - 1s 3ms/step - loss: 0.0942 - root_mean_squared_error: 0.3069 - val_loss: 0.1072 - val_root_mean_squared_error: 0.3274 - lr: 0.0010\n",
            "Epoch 27/200\n",
            "258/258 [==============================] - 1s 3ms/step - loss: 0.0938 - root_mean_squared_error: 0.3063 - val_loss: 0.1095 - val_root_mean_squared_error: 0.3309 - lr: 0.0010\n",
            "Epoch 28/200\n",
            "258/258 [==============================] - 1s 3ms/step - loss: 0.0929 - root_mean_squared_error: 0.3048 - val_loss: 0.1085 - val_root_mean_squared_error: 0.3295 - lr: 0.0010\n",
            "Epoch 29/200\n",
            "258/258 [==============================] - 1s 3ms/step - loss: 0.0935 - root_mean_squared_error: 0.3058 - val_loss: 0.1074 - val_root_mean_squared_error: 0.3277 - lr: 0.0010\n",
            "Epoch 30/200\n",
            "258/258 [==============================] - 1s 3ms/step - loss: 0.0929 - root_mean_squared_error: 0.3047 - val_loss: 0.1090 - val_root_mean_squared_error: 0.3302 - lr: 0.0010\n",
            "Epoch 31/200\n",
            "258/258 [==============================] - 1s 3ms/step - loss: 0.0920 - root_mean_squared_error: 0.3034 - val_loss: 0.1106 - val_root_mean_squared_error: 0.3325 - lr: 0.0010\n",
            "Epoch 32/200\n",
            "258/258 [==============================] - 1s 3ms/step - loss: 0.0918 - root_mean_squared_error: 0.3030 - val_loss: 0.1125 - val_root_mean_squared_error: 0.3355 - lr: 0.0010\n",
            "Epoch 33/200\n",
            "258/258 [==============================] - 1s 3ms/step - loss: 0.0920 - root_mean_squared_error: 0.3032 - val_loss: 0.1101 - val_root_mean_squared_error: 0.3319 - lr: 0.0010\n",
            "Epoch 34/200\n",
            "258/258 [==============================] - 1s 3ms/step - loss: 0.0914 - root_mean_squared_error: 0.3023 - val_loss: 0.1090 - val_root_mean_squared_error: 0.3301 - lr: 0.0010\n",
            "Epoch 35/200\n",
            "258/258 [==============================] - 1s 3ms/step - loss: 0.0913 - root_mean_squared_error: 0.3021 - val_loss: 0.1102 - val_root_mean_squared_error: 0.3320 - lr: 0.0010\n",
            "Epoch 36/200\n",
            "258/258 [==============================] - 1s 3ms/step - loss: 0.0906 - root_mean_squared_error: 0.3010 - val_loss: 0.1082 - val_root_mean_squared_error: 0.3290 - lr: 0.0010\n",
            "Epoch 37/200\n",
            "258/258 [==============================] - 1s 4ms/step - loss: 0.0855 - root_mean_squared_error: 0.2924 - val_loss: 0.1058 - val_root_mean_squared_error: 0.3253 - lr: 1.0000e-04\n",
            "Epoch 38/200\n",
            "258/258 [==============================] - 1s 4ms/step - loss: 0.0843 - root_mean_squared_error: 0.2904 - val_loss: 0.1055 - val_root_mean_squared_error: 0.3249 - lr: 1.0000e-04\n",
            "Epoch 39/200\n",
            "258/258 [==============================] - 1s 4ms/step - loss: 0.0840 - root_mean_squared_error: 0.2898 - val_loss: 0.1054 - val_root_mean_squared_error: 0.3246 - lr: 1.0000e-04\n",
            "Epoch 40/200\n",
            "258/258 [==============================] - 1s 3ms/step - loss: 0.0838 - root_mean_squared_error: 0.2895 - val_loss: 0.1054 - val_root_mean_squared_error: 0.3247 - lr: 1.0000e-04\n",
            "Epoch 41/200\n",
            "258/258 [==============================] - 1s 3ms/step - loss: 0.0837 - root_mean_squared_error: 0.2893 - val_loss: 0.1056 - val_root_mean_squared_error: 0.3250 - lr: 1.0000e-04\n",
            "Epoch 42/200\n",
            "258/258 [==============================] - 1s 3ms/step - loss: 0.0835 - root_mean_squared_error: 0.2890 - val_loss: 0.1057 - val_root_mean_squared_error: 0.3251 - lr: 1.0000e-04\n",
            "Epoch 43/200\n",
            "258/258 [==============================] - 1s 3ms/step - loss: 0.0835 - root_mean_squared_error: 0.2890 - val_loss: 0.1059 - val_root_mean_squared_error: 0.3254 - lr: 1.0000e-04\n",
            "Epoch 44/200\n",
            "258/258 [==============================] - 1s 3ms/step - loss: 0.0834 - root_mean_squared_error: 0.2888 - val_loss: 0.1057 - val_root_mean_squared_error: 0.3251 - lr: 1.0000e-04\n",
            "Epoch 45/200\n",
            "258/258 [==============================] - 1s 3ms/step - loss: 0.0833 - root_mean_squared_error: 0.2886 - val_loss: 0.1057 - val_root_mean_squared_error: 0.3252 - lr: 1.0000e-04\n",
            "Epoch 46/200\n",
            "258/258 [==============================] - 1s 3ms/step - loss: 0.0832 - root_mean_squared_error: 0.2885 - val_loss: 0.1056 - val_root_mean_squared_error: 0.3249 - lr: 1.0000e-04\n",
            "Epoch 47/200\n",
            "258/258 [==============================] - 1s 3ms/step - loss: 0.0832 - root_mean_squared_error: 0.2884 - val_loss: 0.1062 - val_root_mean_squared_error: 0.3259 - lr: 1.0000e-04\n",
            "Epoch 48/200\n",
            "258/258 [==============================] - 1s 3ms/step - loss: 0.0832 - root_mean_squared_error: 0.2884 - val_loss: 0.1061 - val_root_mean_squared_error: 0.3258 - lr: 1.0000e-04\n",
            "Epoch 49/200\n",
            "258/258 [==============================] - 1s 3ms/step - loss: 0.0831 - root_mean_squared_error: 0.2883 - val_loss: 0.1058 - val_root_mean_squared_error: 0.3252 - lr: 1.0000e-04\n",
            "Epoch 50/200\n",
            "258/258 [==============================] - 1s 3ms/step - loss: 0.0822 - root_mean_squared_error: 0.2867 - val_loss: 0.1058 - val_root_mean_squared_error: 0.3252 - lr: 1.0000e-05\n",
            "Epoch 51/200\n",
            "258/258 [==============================] - 1s 3ms/step - loss: 0.0821 - root_mean_squared_error: 0.2866 - val_loss: 0.1058 - val_root_mean_squared_error: 0.3252 - lr: 1.0000e-05\n",
            "Epoch 52/200\n",
            "258/258 [==============================] - 1s 3ms/step - loss: 0.0821 - root_mean_squared_error: 0.2866 - val_loss: 0.1057 - val_root_mean_squared_error: 0.3251 - lr: 1.0000e-05\n",
            "Epoch 53/200\n",
            "258/258 [==============================] - 1s 4ms/step - loss: 0.0821 - root_mean_squared_error: 0.2865 - val_loss: 0.1057 - val_root_mean_squared_error: 0.3252 - lr: 1.0000e-05\n",
            "Epoch 54/200\n",
            "258/258 [==============================] - 1s 4ms/step - loss: 0.0821 - root_mean_squared_error: 0.2865 - val_loss: 0.1057 - val_root_mean_squared_error: 0.3252 - lr: 1.0000e-05\n",
            "Epoch 55/200\n",
            "258/258 [==============================] - 1s 4ms/step - loss: 0.0821 - root_mean_squared_error: 0.2865 - val_loss: 0.1058 - val_root_mean_squared_error: 0.3252 - lr: 1.0000e-05\n",
            "Epoch 56/200\n",
            "258/258 [==============================] - 1s 3ms/step - loss: 0.0821 - root_mean_squared_error: 0.2865 - val_loss: 0.1058 - val_root_mean_squared_error: 0.3252 - lr: 1.0000e-05\n",
            "Epoch 57/200\n",
            "258/258 [==============================] - 1s 3ms/step - loss: 0.0821 - root_mean_squared_error: 0.2865 - val_loss: 0.1058 - val_root_mean_squared_error: 0.3252 - lr: 1.0000e-05\n",
            "Epoch 58/200\n",
            "258/258 [==============================] - 1s 3ms/step - loss: 0.0821 - root_mean_squared_error: 0.2865 - val_loss: 0.1057 - val_root_mean_squared_error: 0.3252 - lr: 1.0000e-05\n",
            "Epoch 59/200\n",
            "258/258 [==============================] - 1s 3ms/step - loss: 0.0820 - root_mean_squared_error: 0.2864 - val_loss: 0.1058 - val_root_mean_squared_error: 0.3252 - lr: 1.0000e-05\n"
          ]
        }
      ],
      "source": [
        "m = keras.metrics.RootMeanSquaredError()\n",
        "# model architecture \n",
        "model = Sequential()\n",
        "model.add(Dense(128, input_shape=(134,), activation='relu'))\n",
        "model.add(Dense(128, activation='relu'))\n",
        "model.add(Dense(1, activation='linear'))\n",
        "\n",
        "lr_scheduler = ReduceLROnPlateau(monitor='val_loss', factor=0.1, patience=10)\n",
        "early_stopping = EarlyStopping(monitor='val_loss', patience=20)\n",
        "model.compile(loss='mean_squared_error', optimizer='adam', metrics=m ) \n",
        "\n",
        "history = model.fit(x_train, y_train, epochs=200, batch_size=128, validation_data= (x_test, y_test),shuffle=True,\n",
        "          callbacks=[lr_scheduler, early_stopping])\n"
      ]
    },
    {
      "cell_type": "code",
      "execution_count": 48,
      "metadata": {
        "colab": {
          "base_uri": "https://localhost:8080/"
        },
        "id": "TSGNZcV4EAL0",
        "outputId": "e2a49a2d-e0b3-405f-e46f-de0942b76359"
      },
      "outputs": [
        {
          "name": "stdout",
          "output_type": "stream",
          "text": [
            "258/258 [==============================] - 0s 991us/step\n",
            "Test R2 score: 0.8937147660632806\n",
            "MAE : 0.19716393651575992\n",
            "RMSE: 0.3252165833007412\n"
          ]
        }
      ],
      "source": [
        "predictions = model.predict(x_test)\n",
        "r2 = r2_score(y_test, predictions) \n",
        "\n",
        "print('Test R2 score:', r2)  #64 neuro\n",
        "print(\"MAE :\", mean_absolute_error(y_test,predictions))\n",
        "print(\"RMSE:\",np.sqrt(mean_squared_error(y_test, predictions)))"
      ]
    },
    {
      "cell_type": "code",
      "execution_count": 49,
      "metadata": {
        "colab": {
          "base_uri": "https://localhost:8080/",
          "height": 472
        },
        "id": "B-qZGCTFogbN",
        "outputId": "73d10cc2-ede3-46d1-c4e3-656359d4108c"
      },
      "outputs": [
        {
          "data": {
            "image/png": "[encoded data removed]",
            "text/plain": [
              "<Figure size 640x480 with 1 Axes>"
            ]
          },
          "metadata": {},
          "output_type": "display_data"
        }
      ],
      "source": [
        "plt.plot(history.history['loss'])\n",
        "plt.plot(history.history['val_loss'])\n",
        "plt.title('model loss')\n",
        "plt.ylabel('loss')\n",
        "plt.xlabel('epoch') \n",
        "plt.legend(['train', 'val'], loc='upper left')\n",
        "plt.show()"
      ]
    },
    {
      "cell_type": "code",
      "execution_count": 50,
      "metadata": {
        "colab": {
          "base_uri": "https://localhost:8080/",
          "height": 445
        },
        "id": "ecpgCSuWogTQ",
        "outputId": "4358e18d-877e-4448-8cad-7702eb497e2e"
      },
      "outputs": [
        {
          "data": {
            "image/png": "[encoded data removed]",
            "text/plain": [
              "<Figure size 800x500 with 1 Axes>"
            ]
          },
          "metadata": {},
          "output_type": "display_data"
        }
      ],
      "source": [
        "pd.DataFrame(history.history).plot(figsize=(8,5))\n",
        "plt.show()"
      ]
    },
    {
      "cell_type": "code",
      "execution_count": 52,
      "metadata": {
        "id": "-KT_OS2EMMjE"
      },
      "outputs": [],
      "source": [
        "import pickle\n",
        "pickle.dump(model, open(\"seq.pkl\", \"wb\"))"
      ]
    },
    {
      "cell_type": "code",
      "execution_count": null,
      "metadata": {
        "id": "Geuo9jkYNgXS"
      },
      "outputs": [],
      "source": []
    }
  ],
  "metadata": {
    "colab": {
      "collapsed_sections": [
        "A0edehtwpJhQ",
        "sOthc1jbJibg",
        "Vy38vXaDggvq",
        "oYxHub5bb_Gc",
        "wXrb_74rvwTf",
        "2_JFxZtsp3IN",
        "hCC_bnQ9vSHh",
        "pjIn4VYKYRpw",
        "DveOYPi7QlhV"
      ],
      "provenance": []
    },
    "gpuClass": "standard",
    "kernelspec": {
      "display_name": "Python 3",
      "name": "python3"
    },
    "language_info": {
      "name": "python",
      "version": "3.7.0"
    }
  },
  "nbformat": 4,
  "nbformat_minor": 0
}
